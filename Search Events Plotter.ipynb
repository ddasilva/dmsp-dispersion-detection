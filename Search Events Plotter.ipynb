{
 "cells": [
  {
   "cell_type": "markdown",
   "metadata": {},
   "source": [
    "# Dispersion Event Search"
   ]
  },
  {
   "cell_type": "markdown",
   "metadata": {},
   "source": [
    "Following the research of Lockwood et al, we define the Eic paramater of a flux distribution as the energy under the energy of peak flux, whose flux is equal to 10% of the peak.\n",
    "\n",
    "To search for dispersion events, we measure graduaual $\\Delta$Eic in the correct direction when physical parameters are in range. This is done by defining a function $D(t)$ that is integrated over a window of time when $55^{\\circ} < |\\mathrm{MLAT(t)}| < 90^{\\circ}$. If $\\int_{tf}^{ti}D(t) dt > \\mathrm{threshold}$ (respresenting net change in Eic over the window) and $\\int_{t_i}^{t_f}{D(t)dt} > 0.8 \\int_{t_i}^{t_f}{|D(t)|dt}$ (representing the majority of the instantaneous change is in the correct direction for dispersion), the window is accepted as being part of a dispersion event. At the end of the algorithm, overlapping windows are merged together.\n",
    "\n",
    "Definition of the integrand $D(t)$ is as follows. The change in magnetic latitude is utilized to retain a positive sign when the change is in the correct direction, regardless of whether the satellite is traveling northward/southward or is coming from above/below the event.\n",
    "\n",
    "Search for:\n",
    "\n",
    "$\\Large{\\int_{t_i}^{t_f}{D(t)dt}} > \\mathrm{threshold}$\n",
    "\n",
    "and:\n",
    "\n",
    "$\\Large{\\int_{t_i}^{t_f}{D(t)dt}} > 0.8 \\Large{\\int_{t_i}^{t_f}{|D(t)|dt}}$\n",
    "\n",
    "\n",
    "Where..\n",
    "\n",
    "$\\Large{D(t) = -\\mathrm{sgn}(\\frac{d|\\mathrm{MLAT}|}{dt})a(t)b(t)\\frac{dEic}{dt}}$\n",
    "\n",
    "and\n",
    "\n",
    "$\n",
    "a(t) =   \\left\\{\n",
    "\\begin{array}{ll}\n",
    "      1 & \\mathrm{Density} > \\mathrm{threshold} \\\\\n",
    "      0 & \\mathrm{Otherwise} \\\\\n",
    "\\end{array} \n",
    "\\right. \n",
    "$\n",
    "\n",
    "$\n",
    "b(t) =   \\left\\{\n",
    "\\begin{array}{ll}\n",
    "      1 & \\mathrm{Peak\\ Flux\\ at\\ Eic} > \\mathrm{threshold} \\\\\n",
    "      0 & \\mathrm{Otherwise} \\\\\n",
    "\\end{array} \n",
    "\\right. \n",
    "$"
   ]
  },
  {
   "cell_type": "code",
   "execution_count": null,
   "metadata": {},
   "outputs": [],
   "source": [
    "import progressbar\n",
    "import h5py\n",
    "import pandas as pd\n",
    "from datetime import datetime, timedelta\n",
    "import numpy as np\n",
    "import pytz\n",
    "import warnings\n",
    "import pylab as plt\n",
    "%matplotlib inline\n",
    "from matplotlib.colors import LogNorm\n",
    "\n",
    "import search_dispersion_events \n",
    "import importlib\n",
    "importlib.reload(search_dispersion_events)"
   ]
  },
  {
   "cell_type": "code",
   "execution_count": null,
   "metadata": {},
   "outputs": [],
   "source": [
    "df = pd.read_csv('data/train.csv', parse_dates=['start_time', 'end_time'])\n",
    "df.head()"
   ]
  },
  {
   "cell_type": "code",
   "execution_count": null,
   "metadata": {},
   "outputs": [],
   "source": [
    "\n",
    "def search(row, plot=True):\n",
    "    importlib.reload(search_dispersion_events)\n",
    "    \n",
    "    # Do computation --------------------------------------------------\n",
    "    fh = search_dispersion_events.read_file(row.filename)\n",
    "\n",
    "    dEicdt_smooth, Eic = search_dispersion_events.estimate_log_Eic_smooth_derivative(fh)\n",
    "\n",
    "    df_match, integrand, integral, upper_area_frac = search_dispersion_events.walk_and_integrate(\n",
    "        fh, dEicdt_smooth, Eic, search_dispersion_events.DEFAULT_INTERVAL_LENGTH,\n",
    "        return_integrand=True\n",
    "    )\n",
    "    \n",
    "    if not plot:\n",
    "        return df_match\n",
    "\n",
    "    # Do plotting --------------------------------------------------\n",
    "    for _, row_match in df_match.iterrows():\n",
    "        i = fh['t'].searchsorted(row_match.start_time)\n",
    "        j = fh['t'].searchsorted(row_match.end_time)\n",
    "\n",
    "        fig, axes = plt.subplots(2, 1, figsize=(18, 6), sharex=True)\n",
    "\n",
    "        im = axes[0].pcolor(fh['t'][i:j], np.log10(fh['ch_energy']), fh['ion_d_ener'][:, i:j], \n",
    "                            norm=LogNorm(vmin=1e3, vmax=1e8), cmap='jet')\n",
    "        plt.colorbar(im, ax=axes[0]).set_label('Log Energy Flux')\n",
    "        plt.colorbar(im, ax=axes[1]).set_label('')\n",
    "\n",
    "        axes[0].plot(fh['t'][i:j], Eic[i:j], 'b*-')\n",
    "        axes[0].invert_yaxis()\n",
    "        axes[0].set_ylabel('Log Energy [eV] - Ions')\n",
    "\n",
    "        time_length = row_match.end_time - row_match.start_time\n",
    "        fig.suptitle(f'{time_length.total_seconds() / 60:.1f} minutes : '\n",
    "                     f'{row_match.start_time.isoformat()} - {row_match.end_time.isoformat()}', fontweight='bold')\n",
    "        \n",
    "        title = 'MLAT = (%.1f deg to %.1f deg)' % (fh['mlat'][i], fh['mlat'][j])\n",
    "        title += ' Northward' if fh['mlat'][j] > fh['mlat'][i] else ' Southward'\n",
    "        title += f' -- Integral {float(integral[i:j].max()):.2f} -- UpperFrac {float(upper_area_frac[i]):.2f}'\n",
    "        axes[0].set_title(title)\n",
    "\n",
    "        axes[1].fill_between(fh['t'][i:j], 0, integrand[i:j])\n",
    "        axes[1].axhline(0, color='black', linestyle='dashed')\n",
    "        axes[1].set_ylim([-.25, .25])\n",
    "        axes[1].set_ylabel('D(t) [eV/s]')\n",
    "        \n",
    "        if row.start_time > row_match.start_time and row.start_time < row_match.end_time:\n",
    "            axes[1].axvspan(row_match.start_time, row_match.end_time, color='gray', alpha=0.3)\n",
    "            \n",
    "    return df_match"
   ]
  },
  {
   "cell_type": "code",
   "execution_count": null,
   "metadata": {},
   "outputs": [],
   "source": [
    "search(df[df['class']==1].iloc[2])"
   ]
  },
  {
   "cell_type": "markdown",
   "metadata": {},
   "source": [
    "# Check Provided Examples exist in Matches for their Respective Day"
   ]
  },
  {
   "cell_type": "code",
   "execution_count": null,
   "metadata": {},
   "outputs": [],
   "source": [
    "import joblib\n",
    "\n",
    "def test(row):\n",
    "    df_match = search(row, plot=False)\n",
    "    b=False\n",
    "    for _, match in df_match.iterrows():\n",
    "        x1, x2 = row.start_time, row.end_time\n",
    "        y1, y2 = match.start_time, match.end_time\n",
    "        \n",
    "        if x1 <= y2 and y1 <= x2:\n",
    "            b=True\n",
    "            break    \n",
    "    return (row, b)"
   ]
  },
  {
   "cell_type": "code",
   "execution_count": null,
   "metadata": {},
   "outputs": [],
   "source": [
    "from joblib import Parallel, delayed\n",
    "results = Parallel(n_jobs=12)(delayed(test)(row) for _, row in df[df['class']==1].iterrows())"
   ]
  },
  {
   "cell_type": "code",
   "execution_count": null,
   "metadata": {},
   "outputs": [],
   "source": [
    "correct_fraction = sum(1 for (row, b) in results if b)/len(results)\n",
    "print('Correctly classified the following fraction of provided examples:')\n",
    "print(f'{correct_fraction:.2f}')"
   ]
  },
  {
   "cell_type": "code",
   "execution_count": null,
   "metadata": {},
   "outputs": [],
   "source": [
    "print('Provided examples not detected:')\n",
    "print([row.name for row, b in results if not b])"
   ]
  }
 ],
 "metadata": {
  "kernelspec": {
   "display_name": "Python 3",
   "language": "python",
   "name": "python3"
  },
  "language_info": {
   "codemirror_mode": {
    "name": "ipython",
    "version": 3
   },
   "file_extension": ".py",
   "mimetype": "text/x-python",
   "name": "python",
   "nbconvert_exporter": "python",
   "pygments_lexer": "ipython3",
   "version": "3.8.3"
  }
 },
 "nbformat": 4,
 "nbformat_minor": 4
}
