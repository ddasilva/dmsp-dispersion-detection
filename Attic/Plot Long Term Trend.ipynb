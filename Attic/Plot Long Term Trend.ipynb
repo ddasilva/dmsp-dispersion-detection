{
 "cells": [
  {
   "cell_type": "code",
   "execution_count": null,
   "metadata": {},
   "outputs": [],
   "source": [
    "import cartopy.crs as ccrs\n",
    "from datetime import datetime\n",
    "import pylab as plt\n",
    "import pandas as pd\n",
    "import json\n",
    "import gc\n",
    "from glob import glob\n",
    "import numpy as np\n",
    "import pytz\n",
    "from spacepy import pycdf\n",
    "import lib_search_dispersion\n",
    "%matplotlib inline"
   ]
  },
  {
   "cell_type": "code",
   "execution_count": null,
   "metadata": {},
   "outputs": [],
   "source": [
    "dfs = []\n",
    "\n",
    "for output in glob('data/Long_Term_Trend_F*.csv'):\n",
    "    dfc = pd.read_csv(output, parse_dates=['start_time', 'end_time'])\n",
    "    dfs.append(dfc)\n",
    "\n",
    "df_all = pd.concat(dfs).reset_index()\n",
    "df_all"
   ]
  },
  {
   "cell_type": "code",
   "execution_count": null,
   "metadata": {},
   "outputs": [],
   "source": [
    "df_kp = pd.read_csv('/home/dedasilv/disp/data/Kp_ap_since_1932.txt', comment='#', sep='\\\\s+',\n",
    "                    names='year month day hour hour2 days days_m Kp ap D'.split())\n",
    "\n",
    "df_kp.insert(0, 'timestamp', [\n",
    "    datetime(\n",
    "        int(row.year), int(row.month), int(row.day), int(row.hour),\n",
    "        tzinfo=pytz.utc\n",
    "    )\n",
    "    for (_, row) in df_kp.iterrows()\n",
    "])"
   ]
  },
  {
   "cell_type": "code",
   "execution_count": null,
   "metadata": {},
   "outputs": [],
   "source": [
    "df_all['Kp'] = [\n",
    "    df_kp.iloc[df_kp.timestamp.searchsorted(row.start_time)].Kp\n",
    "    for (_, row)\n",
    "    in df_all.iterrows()\n",
    "]\n",
    "df_all.head()"
   ]
  },
  {
   "cell_type": "code",
   "execution_count": null,
   "metadata": {},
   "outputs": [],
   "source": [
    "#df = df_all[df_all.Kp >= 6].copy()\n",
    "df = df_all.copy()"
   ]
  },
  {
   "cell_type": "code",
   "execution_count": null,
   "metadata": {},
   "outputs": [],
   "source": [
    "fnames = []\n",
    "\n",
    "for cf in glob(\"case_files/Long*.json\"):\n",
    "    fnames.extend(json.load(open(cf))['DMSP_FLUX_FILES'])\n",
    "\n",
    "all_mlat = []\n",
    "all_mlt = []\n",
    "\n",
    "for i, f in enumerate(fnames):\n",
    "    print(f'{i} out of {len(fnames)}')\n",
    "    try:\n",
    "        cdf = pycdf.CDF(f)\n",
    "        all_mlat.append(cdf['SC_AACGM_LAT'][:].astype(np.float32))                                                                 \n",
    "        all_mlt.append(cdf['SC_AACGM_LTIME'][:].astype(np.float32))\n",
    "        cdf.close()\n",
    "    except pycdf.CDFError:\n",
    "        pass"
   ]
  },
  {
   "cell_type": "code",
   "execution_count": null,
   "metadata": {},
   "outputs": [],
   "source": [
    "gc.collect()\n",
    "all_mlat = np.concatenate(all_mlat)\n",
    "gc.collect()\n",
    "all_mlt = np.concatenate(all_mlt)\n",
    "all_mlt *= 2 * np.pi / 24.0\n",
    "gc.collect()"
   ]
  },
  {
   "cell_type": "code",
   "execution_count": null,
   "metadata": {},
   "outputs": [],
   "source": [
    "dmsp_files = {}\n",
    "\n",
    "for i, row in df_all.iterrows():\n",
    "    print(f'{i} out of {len(df_all.index)}')\n",
    "    try:\n",
    "        cdf = pycdf.CDF(row.file)\n",
    "        res = {}\n",
    "        res['t'] = np.array([t.replace(tzinfo=pytz.utc) for t in cdf['Epoch'][:]])\n",
    "        res['mlat'] = cdf['SC_AACGM_LAT'][:].astype(np.float32)               \n",
    "        res['mlt'] = 2 * np.pi * (1/24.) *cdf['SC_AACGM_LTIME'][:].astype(np.float32)\n",
    "        cdf.close()\n",
    "        dmsp_files[row.file] = res\n",
    "    except pycdf.CDFError:\n",
    "        pass"
   ]
  },
  {
   "cell_type": "code",
   "execution_count": null,
   "metadata": {},
   "outputs": [],
   "source": [
    "mlat = []\n",
    "mlt = []\n",
    "for _, row in df.iterrows():\n",
    "    idx = dmsp_files[row.file]['t'].searchsorted(row.start_time)\n",
    "    mlat.append(dmsp_files[row.file]['mlat'][idx])\n",
    "    mlt.append(dmsp_files[row.file]['mlt'][idx])\n",
    "df['mlat'] = mlat\n",
    "df['mlt'] = mlt\n",
    "df"
   ]
  },
  {
   "cell_type": "code",
   "execution_count": null,
   "metadata": {},
   "outputs": [],
   "source": [
    "def plot_points(df_masked, pole):\n",
    "    fig, ax = plt.subplots(subplot_kw={'projection': 'polar'}, figsize=(8, 8))\n",
    "    ax.plot(df_masked.mlt, df_masked.mlat, 'ro')\n",
    "    ax.grid(True)\n",
    "    if pole=='north':\n",
    "        ax.set_rlim(90, 60)\n",
    "    else:\n",
    "        ax.set_rlim(-90, -60)\n",
    "    ax.set_theta_offset(-np.pi/2)\n",
    "    ax.set_title(f'Viewed from {pole.capitalize()} Magnetic Pole\\nDispersion Events 2010-2014', fontweight='bold')"
   ]
  },
  {
   "cell_type": "code",
   "execution_count": null,
   "metadata": {},
   "outputs": [],
   "source": [
    "plot_points(df[df.mlat > 0], 'north')\n",
    "plot_points(df[df.mlat < 0], 'south')"
   ]
  },
  {
   "cell_type": "code",
   "execution_count": null,
   "metadata": {},
   "outputs": [],
   "source": [
    "def plot_coverage(mlt, mlat, pole):\n",
    "    mlt_bins = np.linspace(0, 2*np.pi * 1.01, 24*4)\n",
    "    \n",
    "    if pole == 'north':\n",
    "        mlat_bins = np.linspace(45, 90.01, 30)\n",
    "    else:\n",
    "        mlat_bins = np.linspace(-90, -45, 30)\n",
    "    \n",
    "    dwell, xedges, yedges = np.histogram2d(mlt, mlat, bins=[mlt_bins, mlat_bins])\n",
    "    dwell /= 3600\n",
    "\n",
    "    fig, ax = plt.subplots(subplot_kw={'projection': 'polar'}, figsize=(12, 8))\n",
    "    im = ax.pcolor(xedges[:-1], yedges[:-1], dwell.T, cmap='jet')\n",
    "    ax.grid(True)\n",
    "    \n",
    "    if pole=='north':\n",
    "        ax.set_rlim(90, 60)\n",
    "    else:\n",
    "        ax.set_rlim(-90, -60)\n",
    "    \n",
    "    ax.set_theta_offset(-np.pi/2)\n",
    "    ax.set_title(f'Viewed from {pole.capitalize()} Magnetic Pole\\nDwell Time F16/F17/F18 2010-2014', fontweight='bold')\n",
    "    ax.set_facecolor('white')\n",
    "    bbox = dict(boxstyle=\"round\", ec=\"black\", fc=\"white\")\n",
    "    plt.setp(ax.get_yticklabels(), bbox=bbox)\n",
    "    plt.colorbar(im).set_label('Dwell Time per Bin (Hours)', fontsize=20)"
   ]
  },
  {
   "cell_type": "code",
   "execution_count": null,
   "metadata": {},
   "outputs": [],
   "source": [
    "gc.collect()\n",
    "plot_coverage(all_mlt[all_mlat > 0], all_mlat[all_mlat > 0], 'north')"
   ]
  },
  {
   "cell_type": "code",
   "execution_count": null,
   "metadata": {},
   "outputs": [],
   "source": [
    "gc.collect()\n",
    "plot_coverage(all_mlt[all_mlat < 0], all_mlat[all_mlat < 0], 'south')"
   ]
  },
  {
   "cell_type": "code",
   "execution_count": null,
   "metadata": {},
   "outputs": [],
   "source": [
    "def plot_normalized_event_rate(df_masked, mlt, mlat, pole):\n",
    "    mlt_bins = np.linspace(0, 2*np.pi * 1.01, 24*4)\n",
    "\n",
    "    if pole == 'north':\n",
    "        mlat_bins = np.linspace(45, 90.01, 30)\n",
    "    else:\n",
    "        mlat_bins = np.linspace(-90, -45, 30)\n",
    "\n",
    "    H, xedges, yedges = np.histogram2d(df_masked.mlt, df_masked.mlat, bins=[mlt_bins, mlat_bins])\n",
    "    Hnorm, _, _ = np.histogram2d(mlt, mlat, bins=[mlt_bins, mlat_bins])\n",
    "\n",
    "    scaled = H.copy()\n",
    "    #scaled[Hnorm < 0.15 * Hnorm.max()] = 0\n",
    "    scaled[Hnorm>0] /= Hnorm[Hnorm>0]\n",
    "    scaled /= scaled.max()\n",
    "\n",
    "    fig, ax = plt.subplots(subplot_kw={'projection': 'polar'}, figsize=(12, 8))\n",
    "    im = ax.pcolor(xedges[:-1], yedges[:-1], scaled.T, cmap='jet')\n",
    "    ax.grid(True)\n",
    "\n",
    "    if pole=='north':\n",
    "        ax.set_rlim(90, 60)\n",
    "    else:\n",
    "        ax.set_rlim(-90, -60)\n",
    "    \n",
    "    ax.set_theta_offset(-np.pi/2)\n",
    "    ax.set_title(f'Viewed from {pole.capitalize()} Magnetic Pole\\nDispersion Events 2010-2014', fontweight='bold')\n",
    "    ax.set_facecolor('white')\n",
    "    bbox = dict(boxstyle=\"round\", ec=\"black\", fc=\"white\")\n",
    "    plt.setp(ax.get_yticklabels(), bbox=bbox)\n",
    "    plt.colorbar(im).set_label('Event Rate Rate Normalized by Dwell Time', fontsize=20)\n",
    "    None"
   ]
  },
  {
   "cell_type": "code",
   "execution_count": null,
   "metadata": {},
   "outputs": [],
   "source": [
    "gc.collect()\n",
    "plot_normalized_event_rate(df[df.mlat > 0], all_mlt[all_mlat > 0], all_mlat[all_mlat > 0], 'north')"
   ]
  },
  {
   "cell_type": "code",
   "execution_count": null,
   "metadata": {},
   "outputs": [],
   "source": [
    "gc.collect()\n",
    "plot_normalized_event_rate(df[df.mlat < 0], all_mlt[all_mlat < 0], all_mlat[all_mlat < 0], 'south')"
   ]
  },
  {
   "cell_type": "code",
   "execution_count": null,
   "metadata": {},
   "outputs": [],
   "source": [
    "df_masked = df[df.mlat > 0]\n",
    "bins = np.arange(0, 24)\n",
    "plt.figure(figsize=(12, 4))\n",
    "\n",
    "plt.subplot(121)\n",
    "plt.hist(24 / (2. * np.pi ) * all_mlt[all_mlat < 0], bins=bins)\n",
    "plt.title('Magnetic Northern Hemisphere\\nOrbital Visits F16/F17/F18', fontweight='bold')\n",
    "plt.ylabel('Bin Count')\n",
    "plt.grid(True, linestyle='dashed', color='gray')\n",
    "plt.xlabel('MLT')\n",
    "plt.subplot(122)\n",
    "plt.hist(24 / (2. * np.pi ) * df_masked.mlt, bins=bins)\n",
    "plt.title('Magnetic Northern Hemisphere\\nEvent Locations F16/F17/F18', fontweight='bold')\n",
    "plt.grid(True, linestyle='dashed', color='gray')\n",
    "plt.xlabel('MLT')"
   ]
  },
  {
   "cell_type": "code",
   "execution_count": null,
   "metadata": {},
   "outputs": [],
   "source": [
    "df_masked = df[df.mlat < 0]\n",
    "bins = np.arange(0, 24)\n",
    "plt.figure(figsize=(12, 4))\n",
    "\n",
    "plt.subplot(121)\n",
    "plt.hist(24 / (2. * np.pi ) * all_mlt[all_mlat < 0], bins=bins)\n",
    "plt.title('Magnetic Southern Hemisphere\\nOrbital Visits F16/F17/F18', fontweight='bold')\n",
    "plt.ylabel('Bin Count')\n",
    "plt.grid(True, linestyle='dashed', color='gray')\n",
    "plt.xlabel('MLT')\n",
    "\n",
    "plt.subplot(122)\n",
    "plt.hist(24 / (2. * np.pi ) * df_masked.mlt, bins=bins)\n",
    "plt.title('Magnetic Southern Hemisphere\\nEvent Locations F16/F17/F18', fontweight='bold')\n",
    "plt.grid(True, linestyle='dashed', color='gray')\n",
    "plt.xlabel('MLT')"
   ]
  },
  {
   "cell_type": "markdown",
   "metadata": {},
   "source": [
    "df.to_csv('df_out.csv', index=0)\n",
    "df[df.mlat <0].to_csv('df_south.csv', index=0)\n",
    "\n",
    "\n",
    "import os, shutil\n",
    "\n",
    "for t in df[df.mlat <0].start_time:\n",
    "    plots = glob(f'plots/**/*{t.isoformat()}*.png', recursive=True)\n",
    "    for plot in plots:\n",
    "        shutil.copy(plot, os.path.join('/home/dedasilv/south/', os.path.basename(plot)))\n",
    "\n",
    "for t in df[df.mlat >0].start_time:\n",
    "    plots = glob(f'plots/**/*{t.isoformat()}*.png', recursive=True)    \n",
    "    for plot in plots:\n",
    "        shutil.copy(plot, os.path.join('/home/dedasilv/north/', os.path.basename(plot)))"
   ]
  },
  {
   "cell_type": "code",
   "execution_count": null,
   "metadata": {},
   "outputs": [],
   "source": []
  },
  {
   "cell_type": "code",
   "execution_count": null,
   "metadata": {},
   "outputs": [],
   "source": []
  }
 ],
 "metadata": {
  "kernelspec": {
   "display_name": "Python 3",
   "language": "python",
   "name": "python3"
  },
  "language_info": {
   "codemirror_mode": {
    "name": "ipython",
    "version": 3
   },
   "file_extension": ".py",
   "mimetype": "text/x-python",
   "name": "python",
   "nbconvert_exporter": "python",
   "pygments_lexer": "ipython3",
   "version": "3.8.5"
  }
 },
 "nbformat": 4,
 "nbformat_minor": 4
}
