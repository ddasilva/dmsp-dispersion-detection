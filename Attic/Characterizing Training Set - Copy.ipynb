{
 "cells": [
  {
   "cell_type": "code",
   "execution_count": null,
   "metadata": {},
   "outputs": [],
   "source": [
    "import progressbar\n",
    "import h5py\n",
    "import pandas as pd\n",
    "from datetime import datetime, timedelta\n",
    "import numpy as np\n",
    "import pytz"
   ]
  },
  {
   "cell_type": "code",
   "execution_count": null,
   "metadata": {},
   "outputs": [],
   "source": [
    "df = pd.read_csv('data/train.csv', parse_dates=['start_time', 'end_time'])\n",
    "df.head()"
   ]
  },
  {
   "cell_type": "code",
   "execution_count": null,
   "metadata": {},
   "outputs": [],
   "source": [
    "hdf = h5py.File(df.iloc[0].filename, 'r')\n",
    "hdf['Metadata']['Experiment Notes'][:]"
   ]
  },
  {
   "cell_type": "markdown",
   "metadata": {},
   "source": [
    "# Read and Visualize Interval"
   ]
  },
  {
   "cell_type": "code",
   "execution_count": null,
   "metadata": {},
   "outputs": [],
   "source": [
    "class ReadFile:\n",
    "    def __init__(self, filename):\n",
    "        hdf = h5py.File(filename, 'r')\n",
    "        self.t = np.array(\n",
    "            [datetime(1970, 1, 1, tzinfo=pytz.utc) + timedelta(seconds=i)\n",
    "             for i in hdf['Data']['Array Layout']['timestamps'][:]]\n",
    "        )\n",
    "        self.ch_energy = hdf['Data']['Array Layout']['ch_energy'][:]\n",
    "        self.mlat = hdf['Data']['Array Layout']['1D Parameters']['mlat'][:]\n",
    "        self.mlt = hdf['Data']['Array Layout']['1D Parameters']['mlt'][:]\n",
    "        self.ion_d_flux = hdf['Data']['Array Layout']['2D Parameters']['ion_d_flux'][:]\n",
    "        self.ion_d_ener = hdf['Data']['Array Layout']['2D Parameters']['ion_d_ener'][:]\n",
    "        hdf.close()"
   ]
  },
  {
   "cell_type": "code",
   "execution_count": null,
   "metadata": {},
   "outputs": [],
   "source": [
    "file = ReadFile(df.iloc[0].filename)\n",
    "print(df.iloc[0])"
   ]
  },
  {
   "cell_type": "code",
   "execution_count": null,
   "metadata": {},
   "outputs": [],
   "source": [
    "import pylab as plt\n",
    "%matplotlib inline\n",
    "from matplotlib.colors import LogNorm"
   ]
  },
  {
   "cell_type": "code",
   "execution_count": null,
   "metadata": {},
   "outputs": [],
   "source": [
    "i = file.t.searchsorted(df.iloc[0].start_time)\n",
    "j = file.t.searchsorted(df.iloc[0].end_time)\n",
    "\n",
    "plt.figure(figsize=(18, 4))\n",
    "plt.pcolor(file.t[i:j], np.log10(file.ch_energy), file.ion_d_ener[:, i:j], \n",
    "           norm=LogNorm(vmin=1e3, vmax=1e8))\n",
    "plt.colorbar().set_label('Log Energy Flux')\n",
    "plt.gca().invert_yaxis()\n",
    "plt.ylabel('Log Energy [eV] - Ions')"
   ]
  },
  {
   "cell_type": "markdown",
   "metadata": {},
   "source": [
    "# Lengths of Intervals"
   ]
  },
  {
   "cell_type": "code",
   "execution_count": null,
   "metadata": {},
   "outputs": [],
   "source": [
    "without_dispersion = df[df['class'] == 0]\n",
    "with_dispersion = df[df['class'] == 1]\n",
    "\n",
    "plt.figure(figsize=(12, 4))\n",
    "plt.subplot(121)\n",
    "plt.title(f'With Dispersion (N = {len(with_dispersion)})')\n",
    "plt.hist([delta_t.total_seconds()/60 for delta_t in with_dispersion.end_time - with_dispersion.start_time], bins=np.arange(10))\n",
    "plt.xlabel('Sample Length (Minutes)')\n",
    "\n",
    "plt.subplot(122)\n",
    "plt.title(f'Without Dispersion (N = {len(without_dispersion)})')\n",
    "plt.hist([delta_t.total_seconds()/60 for delta_t in without_dispersion.end_time - without_dispersion.start_time], bins=np.arange(10))\n",
    "plt.xlabel('Sample Length (Minutes)')\n"
   ]
  },
  {
   "cell_type": "markdown",
   "metadata": {},
   "source": [
    "# Which Satellites?"
   ]
  },
  {
   "cell_type": "code",
   "execution_count": null,
   "metadata": {},
   "outputs": [],
   "source": [
    "without_dispersion = df[df['class'] == 0]\n",
    "with_dispersion = df[df['class'] == 1]\n",
    "bins = np.arange(16, 20)\n",
    "plt.figure(figsize=(12, 4))\n",
    "plt.subplot(121)\n",
    "plt.title(f'With Dispersion (N = {len(with_dispersion)})')\n",
    "plt.hist(with_dispersion.sat, bins=bins)\n",
    "plt.xticks(bins)\n",
    "plt.ylabel('Bin Count')\n",
    "plt.xlabel('Satellite')\n",
    "\n",
    "plt.subplot(122)\n",
    "plt.title(f'Without Dispersion (N = {len(without_dispersion)})')\n",
    "plt.hist(without_dispersion.sat, bins=bins)\n",
    "plt.xticks(bins)\n",
    "plt.ylabel('Bin Count')\n",
    "plt.xlabel('Satellite')\n",
    "None"
   ]
  },
  {
   "cell_type": "markdown",
   "metadata": {},
   "source": [
    "# Which Year?"
   ]
  },
  {
   "cell_type": "code",
   "execution_count": null,
   "metadata": {},
   "outputs": [],
   "source": [
    "without_dispersion = df[df['class'] == 0]\n",
    "with_dispersion = df[df['class'] == 1]\n",
    "bins = np.arange(2010, 2018, 1)\n",
    "\n",
    "plt.figure(figsize=(12, 4))\n",
    "plt.subplot(121)\n",
    "plt.title(f'With Dispersion (N = {len(with_dispersion)})')\n",
    "plt.hist([t.year for t in with_dispersion.start_time], bins=bins)\n",
    "plt.xticks(bins)\n",
    "plt.ylabel('Bin Count')\n",
    "plt.xlabel('Year')\n",
    "\n",
    "plt.subplot(122)\n",
    "plt.title(f'Without Dispersion (N = {len(without_dispersion)})')\n",
    "plt.hist([t.year for t in without_dispersion.start_time], bins=bins)\n",
    "plt.xticks(bins)\n",
    "plt.ylabel('Bin Count')\n",
    "plt.xlabel('Year')\n",
    "None"
   ]
  },
  {
   "cell_type": "markdown",
   "metadata": {},
   "source": [
    "# What are the Magnetic Latitudes?"
   ]
  },
  {
   "cell_type": "code",
   "execution_count": null,
   "metadata": {},
   "outputs": [],
   "source": [
    "def get_mlats(subset_df):\n",
    "    mlats = []\n",
    "    for _, row in subset_df.iterrows():\n",
    "        fh = ReadFile(row.filename)\n",
    "        i = fh.t.searchsorted(row.start_time)\n",
    "        j = fh.t.searchsorted(row.end_time)\n",
    "        mlat = fh.mlat[i:j]\n",
    "        mlats.extend(mlat)\n",
    "    return mlats"
   ]
  },
  {
   "cell_type": "code",
   "execution_count": null,
   "metadata": {},
   "outputs": [],
   "source": [
    "with_dispersion_mlats = get_mlats(df[df['class'] == 1])\n",
    "without_dispersion_mlats = get_mlats(df[df['class'] == 0])"
   ]
  },
  {
   "cell_type": "code",
   "execution_count": null,
   "metadata": {},
   "outputs": [],
   "source": [
    "bins = np.arange(-90, 91, 1)\n",
    "\n",
    "plt.figure(figsize=(12, 4))\n",
    "plt.subplot(121)\n",
    "plt.title(f'With Dispersion (N = {len(with_dispersion)} events)')\n",
    "plt.hist(with_dispersion_mlats, bins=bins)\n",
    "plt.xticks(bins)\n",
    "plt.ylabel('Bin Count')\n",
    "plt.xlabel('MLAT (deg)')\n",
    "plt.xticks(np.arange(-90, 96, 15))\n",
    "\n",
    "plt.subplot(122)\n",
    "plt.title(f'Without Dispersion (N = {len(without_dispersion)} events)')\n",
    "plt.hist(without_dispersion_mlats, bins=bins)\n",
    "plt.xticks(bins)\n",
    "plt.ylabel('Bin Count')\n",
    "plt.xlabel('MLAT (deg)')\n",
    "plt.xticks(np.arange(-90, 96, 15))\n",
    "\n",
    "None"
   ]
  },
  {
   "cell_type": "markdown",
   "metadata": {},
   "source": [
    "# What are the MLT's?"
   ]
  },
  {
   "cell_type": "code",
   "execution_count": null,
   "metadata": {},
   "outputs": [],
   "source": [
    "def get_mlts(subset_df):\n",
    "    mlts = []\n",
    "    for _, row in subset_df.iterrows():\n",
    "        fh = ReadFile(row.filename)\n",
    "        i = fh.t.searchsorted(row.start_time)\n",
    "        j = fh.t.searchsorted(row.end_time)\n",
    "        mlt = fh.mlt[i:j]\n",
    "        mlts.extend(mlt)\n",
    "    return mlts"
   ]
  },
  {
   "cell_type": "code",
   "execution_count": null,
   "metadata": {},
   "outputs": [],
   "source": [
    "mlats = np.array(get_mlats(df))\n",
    "mlts = np.array(get_mlts(df))"
   ]
  },
  {
   "cell_type": "code",
   "execution_count": null,
   "metadata": {},
   "outputs": [],
   "source": [
    "mlts_south = mlts[mlats < 0]\n",
    "mlts_north = mlts[mlats > 0]"
   ]
  },
  {
   "cell_type": "code",
   "execution_count": null,
   "metadata": {},
   "outputs": [],
   "source": [
    "bins = np.arange(0, 25, .25)\n",
    "\n",
    "plt.figure(figsize=(12, 4))\n",
    "plt.subplot(121)\n",
    "plt.title('North Examples')\n",
    "plt.hist(mlts_north, bins=bins)\n",
    "plt.xticks(bins)\n",
    "plt.ylabel('Bin Count')\n",
    "plt.xlabel('MLT')\n",
    "plt.xticks(np.arange(0, 25, 2))\n",
    "\n",
    "plt.subplot(122)\n",
    "plt.title(f'South Examples')\n",
    "plt.hist(mlts_south, bins=bins)\n",
    "plt.xticks(bins)\n",
    "plt.ylabel('Bin Count')\n",
    "plt.xlabel('MLT')\n",
    "plt.xticks(np.arange(0, 25, 2))\n",
    "\n",
    "None"
   ]
  }
 ],
 "metadata": {
  "kernelspec": {
   "display_name": "Python 3",
   "language": "python",
   "name": "python3"
  },
  "language_info": {
   "codemirror_mode": {
    "name": "ipython",
    "version": 3
   },
   "file_extension": ".py",
   "mimetype": "text/x-python",
   "name": "python",
   "nbconvert_exporter": "python",
   "pygments_lexer": "ipython3",
   "version": "3.7.7"
  }
 },
 "nbformat": 4,
 "nbformat_minor": 4
}
