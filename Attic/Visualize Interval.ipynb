{
 "cells": [
  {
   "cell_type": "code",
   "execution_count": null,
   "metadata": {},
   "outputs": [],
   "source": [
    "import progressbar\n",
    "import h5py\n",
    "import pandas as pd\n",
    "from datetime import datetime, timedelta\n",
    "import numpy as np\n",
    "import pytz\n",
    "import warnings\n",
    "import pylab as plt\n",
    "%matplotlib inline\n",
    "from matplotlib.colors import LogNorm\n",
    "\n",
    "import search_dispersion_events \n",
    "import importlib\n",
    "importlib.reload(search_dispersion_events)"
   ]
  },
  {
   "cell_type": "code",
   "execution_count": null,
   "metadata": {},
   "outputs": [],
   "source": [
    "df = pd.read_csv('data/train.csv', parse_dates=['start_time', 'end_time'])\n",
    "df.head()"
   ]
  },
  {
   "cell_type": "code",
   "execution_count": null,
   "metadata": {},
   "outputs": [],
   "source": []
  },
  {
   "cell_type": "code",
   "execution_count": null,
   "metadata": {},
   "outputs": [],
   "source": [
    "def visualize(row, plot=True):\n",
    "    importlib.reload(search_dispersion_events)\n",
    "    \n",
    "    # Do computation --------------------------------------------------\n",
    "    fh = search_dispersion_events.read_file(row.filename)\n",
    "\n",
    "    dEicdt_smooth, Eic = search_dispersion_events.estimate_log_Eic_smooth_derivative(fh)\n",
    "\n",
    "    df_match, integrand,integral, upper_area_frac = search_dispersion_events.walk_and_integrate(\n",
    "        fh, dEicdt_smooth, Eic, search_dispersion_events.DEFAULT_INTERVAL_LENGTH,\n",
    "        return_integrand=True\n",
    "    )\n",
    "    \n",
    "    if not plot:\n",
    "        return df_match\n",
    "    \n",
    "    # Do plotting --------------------------------------------------\n",
    "    i = fh['t'].searchsorted(row.start_time)\n",
    "    j = fh['t'].searchsorted(row.end_time)\n",
    "    \n",
    "    fig, axes = plt.subplots(5, 1, figsize=(18, 16), sharex=True)\n",
    "\n",
    "    im = axes[0].pcolor(fh['t'][i:j], np.log10(fh['ch_energy']), fh['ion_d_ener'][:, i:j], \n",
    "                        norm=LogNorm(vmin=1e3, vmax=1e8), cmap='jet')\n",
    "    plt.colorbar(im, ax=axes[0]).set_label('Log Energy Flux')\n",
    "    plt.colorbar(im, ax=axes[1]).set_label('')\n",
    "    plt.colorbar(im, ax=axes[2]).set_label('')\n",
    "    plt.colorbar(im, ax=axes[3]).set_label('')\n",
    "    plt.colorbar(im, ax=axes[4]).set_label('')\n",
    "\n",
    "    axes[0].plot(fh['t'][i:j], Eic[i:j], 'b*-')\n",
    "    axes[0].invert_yaxis()\n",
    "    axes[0].set_ylabel('Log Energy [eV] - Ions')\n",
    "\n",
    "    time_length = row.end_time - row.start_time\n",
    "    fig.suptitle(f'{time_length.total_seconds() / 60:.1f} minutes : '\n",
    "                 f'{row.start_time.isoformat()} - {row.end_time.isoformat()}', fontweight='bold')\n",
    "\n",
    "    title = 'MLAT = (%.1f deg to %.1f deg)' % (fh['mlat'][i], fh['mlat'][j])\n",
    "    title += ' Northward' if fh['mlat'][j] > fh['mlat'][i] else ' Southward'\n",
    "    title += f' -- Integral {float(integral[i:j].max()):.2f} -- UpperFrac {float(upper_area_frac[i:j].max()):.2f}'\n",
    "    axes[0].set_title(title)\n",
    "\n",
    "    axes[1].fill_between(fh['t'][i:j], 0, integrand[i:j])\n",
    "    axes[1].axhline(0, color='black', linestyle='dashed')\n",
    "    axes[1].set_ylim([-.25, .25])\n",
    "    axes[1].set_ylabel('D(t) [eV/s]')\n",
    "\n",
    "    axes[2].plot(fh['t'][i:j], np.log10(fh['density'][i:j]+.01), color='black')\n",
    "    axes[2].set_ylabel('Log Density')\n",
    "    axes[2].axhline(search_dispersion_events.DEFAULT_DENSITY_LOG_THRESHOLD, color='red', linestyle='dashed')\n",
    "    axes[2].set_ylim([-2, 10])\n",
    "    \n",
    "    axes[3].plot(fh['t'][i:j], fh['peak_flux'][i:j])\n",
    "    axes[3].set_ylabel('Peak Flux')\n",
    "    axes[3].set_yscale('log')\n",
    "#    axes[3].axhline(search_dispersion_events.DEFAULT_DENSITY_LOG_THRESHOLD, color='red', linestyle='dashed')\n",
    "#    axes[3].set_ylim([-2, 10])\n",
    "\n",
    "        \n",
    "    en_inds = np.log10(fh['ch_energy']).searchsorted(Eic[i:j])\n",
    "    en_inds = [min(i, 18) for i in en_inds]\n",
    "    flux_at_Eic = fh['ion_d_ener'][en_inds, np.arange(i,j)]\n",
    "    flux_at_Eic[np.isnan(Eic[i:j])] = np.nan\n",
    "    \n",
    "    axes[4].plot(fh['t'][i:j], flux_at_Eic, color='purple')\n",
    "    axes[4].set_ylabel('Flux at Eic')\n",
    "    axes[4].set_yscale('log')\n",
    "    axes[4].axhline(10**6, color='red', linestyle='dashed')\n",
    "    \n",
    "    return df_match"
   ]
  },
  {
   "cell_type": "code",
   "execution_count": null,
   "metadata": {},
   "outputs": [],
   "source": [
    "visualize(df[df['class']==1].iloc[0])"
   ]
  },
  {
   "cell_type": "code",
   "execution_count": null,
   "metadata": {},
   "outputs": [],
   "source": [
    "for i in [50, 79, 123, 146, 165, 167, 194, 200, 201, 203, 218, 220, 225, 228, 238, 246, 266, 295, 301, 304]:\n",
    "    visualize(df.iloc[i])"
   ]
  },
  {
   "cell_type": "code",
   "execution_count": null,
   "metadata": {},
   "outputs": [],
   "source": []
  },
  {
   "cell_type": "code",
   "execution_count": null,
   "metadata": {},
   "outputs": [],
   "source": []
  }
 ],
 "metadata": {
  "kernelspec": {
   "display_name": "Python 3",
   "language": "python",
   "name": "python3"
  },
  "language_info": {
   "codemirror_mode": {
    "name": "ipython",
    "version": 3
   },
   "file_extension": ".py",
   "mimetype": "text/x-python",
   "name": "python",
   "nbconvert_exporter": "python",
   "pygments_lexer": "ipython3",
   "version": "3.7.3"
  }
 },
 "nbformat": 4,
 "nbformat_minor": 4
}
