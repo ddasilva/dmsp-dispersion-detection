{
 "cells": [
  {
   "cell_type": "code",
   "execution_count": null,
   "metadata": {},
   "outputs": [],
   "source": [
    "import pandas as pd\n",
    "import glob\n",
    "import intervaltree"
   ]
  },
  {
   "cell_type": "code",
   "execution_count": null,
   "metadata": {},
   "outputs": [],
   "source": [
    "df_human = pd.read_csv('data/Dec20_2015_storm_human_selecteted.csv', parse_dates=['start_time', 'end_time'])\n",
    "print(f'{len(df_human.index)} human selections')\n",
    "df_human.head()"
   ]
  },
  {
   "cell_type": "code",
   "execution_count": null,
   "metadata": {},
   "outputs": [],
   "source": [
    "tmp = []\n",
    "for file in glob.glob('data/Dec20_2015_storm_F*.csv'):\n",
    "    df = pd.read_csv(file, parse_dates=['start_time', 'end_time'])\n",
    "    sats = []\n",
    "    for _, row in df.iterrows():\n",
    "        for i in range(11, 30):\n",
    "            if f'F{i}' in row.file:\n",
    "                sats.append(i)\n",
    "                break\n",
    "    df['sat'] = sats\n",
    "    tmp.append(df)\n",
    "    \n",
    "df_algorithm = pd.concat(tmp).reset_index()\n",
    "print(f'{len(df_algorithm.index)} algorithm selections')\n",
    "df_algorithm.head()"
   ]
  },
  {
   "cell_type": "code",
   "execution_count": null,
   "metadata": {},
   "outputs": [],
   "source": [
    "def get_trees(df):\n",
    "    trees = {}\n",
    "    for sat in set(df.sat.values):\n",
    "        trees[sat] = intervaltree.IntervalTree()\n",
    "        for _, row in df.iterrows():\n",
    "            if row.sat == sat:\n",
    "                trees[sat][row.start_time:row.end_time] = True\n",
    "    return trees"
   ]
  },
  {
   "cell_type": "code",
   "execution_count": null,
   "metadata": {},
   "outputs": [],
   "source": [
    "trees_human = get_trees(df_human)\n",
    "trees_human[16]"
   ]
  },
  {
   "cell_type": "code",
   "execution_count": null,
   "metadata": {},
   "outputs": [],
   "source": [
    "trees_algorithm = get_trees(df_algorithm)\n",
    "trees_algorithm"
   ]
  },
  {
   "cell_type": "code",
   "execution_count": null,
   "metadata": {},
   "outputs": [],
   "source": [
    "trees_algorithm[16]"
   ]
  },
  {
   "cell_type": "code",
   "execution_count": null,
   "metadata": {},
   "outputs": [],
   "source": [
    "both = 0\n",
    "alg_not_human = 0\n",
    "human_not_alg = 0\n",
    "for sat in trees_algorithm:\n",
    "    for interval in trees_algorithm[sat]:\n",
    "        res = trees_human[sat][interval.begin:interval.end]\n",
    "        if res:\n",
    "            both += 1\n",
    "        else:\n",
    "            alg_not_human += 1\n",
    "\n",
    "\n",
    "tmp = []\n",
    "for sat in trees_human:\n",
    "    for interval in trees_human[sat]:\n",
    "        res = trees_algorithm[sat][interval.begin:interval.end]\n",
    "        if not res:\n",
    "            human_not_alg += 1\n",
    "            tmp.append((sat, interval.begin.isoformat()))\n",
    "\n",
    "print('Human Total: %d' % sum(len(t) for t in trees_human.values())) \n",
    "print('Algorithm Total: %d' % sum(len(t) for t in trees_algorithm.values())) \n",
    "print()\n",
    "print('In Both Human and Algorithm: %d' %both)\n",
    "print('In Algorithm but not Human: %d' % alg_not_human)\n",
    "print('In Human but not Algorithm: %d' % human_not_alg)"
   ]
  },
  {
   "cell_type": "code",
   "execution_count": null,
   "metadata": {},
   "outputs": [],
   "source": [
    "for x in sorted(tmp):print(x)"
   ]
  }
 ],
 "metadata": {
  "kernelspec": {
   "display_name": "Python 3",
   "language": "python",
   "name": "python3"
  },
  "language_info": {
   "codemirror_mode": {
    "name": "ipython",
    "version": 3
   },
   "file_extension": ".py",
   "mimetype": "text/x-python",
   "name": "python",
   "nbconvert_exporter": "python",
   "pygments_lexer": "ipython3",
   "version": "3.8.5"
  }
 },
 "nbformat": 4,
 "nbformat_minor": 4
}
