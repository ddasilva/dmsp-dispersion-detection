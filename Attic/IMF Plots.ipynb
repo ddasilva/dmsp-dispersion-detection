{
 "cells": [
  {
   "cell_type": "code",
   "execution_count": null,
   "metadata": {},
   "outputs": [],
   "source": [
    "from datetime import timedelta, datetime\n",
    "import glob\n",
    "import json\n",
    "import numpy as np\n",
    "import os\n",
    "import pandas as pd\n",
    "import lib_search_dispersion\n",
    "import pylab as plt\n",
    "%matplotlib inline"
   ]
  },
  {
   "cell_type": "code",
   "execution_count": null,
   "metadata": {},
   "outputs": [],
   "source": []
  },
  {
   "cell_type": "code",
   "execution_count": null,
   "metadata": {},
   "outputs": [],
   "source": [
    "dfs = []\n",
    "for file in glob.glob('data/reverse_search_F*.csv'):\n",
    "    df = pd.read_csv(file, parse_dates=['start_time', 'end_time'])\n",
    "    df['sat'] = file.split('.')[0].split('_')[-1]\n",
    "    dfs.append(df)\n",
    "df_events = pd.concat(dfs)\n",
    "df_events.head()"
   ]
  },
  {
   "cell_type": "code",
   "execution_count": null,
   "metadata": {},
   "outputs": [],
   "source": [
    "#df_events = df_events[(df_events.start_time==pd.Timestamp('2015-02-02T09:19:58+00:00')) |\n",
    "#                      (df_events.start_time==pd.Timestamp('2015-02-24T22:38:19+00:00')) |\n",
    "#                      (df_events.start_time==pd.Timestamp('2015-05-19T21:24:45+00:00')) |\n",
    "#                      (df_events.start_time==pd.Timestamp('2015-02-21T15:43:43+00:00')) |\n",
    "#                      (df_events.start_time==pd.Timestamp('2015-03-07T04:58:20+00:00')) |\n",
    "#                      (df_events.start_time==pd.Timestamp('2015-05-12T11:30:52+00:00'))]\n",
    "\n",
    "#df_events = df_events[(df_events.start_time==pd.Timestamp('2015-09-08T10:10:07+00:00')) |\n",
    "#                      (df_events.start_time==pd.Timestamp('2015-12-24T05:17:23+00:00')) |\n",
    "#                      (df_events.start_time==pd.Timestamp('2015-12-24T16:13:23+00:00')) |\n",
    "#                      (df_events.start_time==pd.Timestamp('2015-08-29T09:07:18+00:00')) |\n",
    "#                      (df_events.start_time==pd.Timestamp('2015-09-11T11:35:38+00:00')) |\n",
    "#                      (df_events.start_time==pd.Timestamp('2015-11-29T20:51:09+00:00'))\n",
    "#                     ]\n",
    "\n",
    "df_events = df_events[\n",
    "    (df_events.start_time==pd.Timestamp('2015-08-29T09:07:18+00:00')) |\n",
    "    (df_events.start_time==pd.Timestamp('2015-12-24T16:13:23+00:00'))\n",
    "]\n",
    "\n",
    "df_events"
   ]
  },
  {
   "cell_type": "code",
   "execution_count": null,
   "metadata": {},
   "outputs": [],
   "source": [
    "!ls data/training_data_5y/omni/"
   ]
  },
  {
   "cell_type": "code",
   "execution_count": null,
   "metadata": {},
   "outputs": [],
   "source": [
    "case_file = json.load(open('case_files/training_data_5y_F16.json'))\n",
    "omniweb_fh = lib_search_dispersion.read_omniweb_files(['data/training_data_5y/omni/omni_hro_1min_20160501_v01.cdf'])"
   ]
  },
  {
   "cell_type": "code",
   "execution_count": null,
   "metadata": {},
   "outputs": [],
   "source": [
    "os.makedirs('plots/reverse_search/omni', exist_ok=True)\n",
    "!rm plots/reverse_search/omni/*.png"
   ]
  },
  {
   "cell_type": "code",
   "execution_count": null,
   "metadata": {},
   "outputs": [],
   "source": [
    "def mk_plot(row, omniweb_fh):\n",
    "    \n",
    "    t0 = row['start_time'] - timedelta(minutes=15)\n",
    "    t1 = row['end_time'] + timedelta(minutes=15)\n",
    "    \n",
    "    i = omniweb_fh['t'].searchsorted(t0)\n",
    "    j = omniweb_fh['t'].searchsorted(t1)\n",
    "\n",
    "    \n",
    "    \n",
    "    mask = np.zeros(omniweb_fh['Bx'].shape, dtype=bool)\n",
    "    \n",
    "    for key in ['Bx', 'By', 'Bz', 'n']:\n",
    "        omniweb_fh[key][omniweb_fh[key] >= 999] = np.nan\n",
    "    \n",
    "    \n",
    "    plt.figure(figsize=(8, 8))\n",
    "    \n",
    "    #plt.suptitle(f'Event Detection\\n{row[\"start_time\"].isoformat()} - {row[\"end_time\"].isoformat()} ({row[\"sat\"]})')\n",
    "    plt.subplot(411)\n",
    "    plt.title('IMF Field Around Event from OMNI')\n",
    "    plt.plot(omniweb_fh['t'][i:j], omniweb_fh['Bx'][i:j], 'b-', label='Bx')\n",
    "    plt.plot(omniweb_fh['t'][i:j], omniweb_fh['By'][i:j], 'g-', label='By')\n",
    "    plt.plot(omniweb_fh['t'][i:j], omniweb_fh['Bz'][i:j], 'r-', label='Bz')\n",
    "    plt.legend(ncol=3)\n",
    "    #plt.ylim([-15, 15])\n",
    "    plt.grid(linestyle='dashed', color='#ddd')\n",
    "    plt.ylabel('$\\\\vec{B}$ (nT)')\n",
    "    plt.fill_between([row[\"start_time\"], row[\"end_time\"]],\n",
    "                     [plt.ylim()[0]]*2, [plt.ylim()[1]]*2,\n",
    "                     color='gray', alpha=0.2)\n",
    "    plt.xlim(t0, t1)\n",
    "    \n",
    "    plt.subplot(412)\n",
    "    plt.plot(omniweb_fh['t'][i:j], omniweb_fh['Bz'][i:j], 'r-', label='Bz')\n",
    "    plt.legend(ncol=1)\n",
    "    #plt.ylim([-35, 35])\n",
    "    plt.grid(linestyle='dashed', color='#ddd')\n",
    "    plt.ylabel('Bz (nT)')\n",
    "    plt.fill_between([row[\"start_time\"], row[\"end_time\"]],\n",
    "                     [plt.ylim()[0]]*2, [plt.ylim()[1]]*2,\n",
    "                     color='gray', alpha=0.2)\n",
    "    plt.xlim(t0, t1)\n",
    "    \n",
    "    plt.subplot(413)\n",
    "    plt.plot(omniweb_fh['t'][i:j],\n",
    "             np.sqrt(omniweb_fh['Bx'][i:j]**2 + omniweb_fh['By'][i:j]**2 + omniweb_fh['Bz'][i:j]**2),\n",
    "              'k-', label='|B|')\n",
    "    plt.legend()\n",
    "    plt.ylim([0, 15])\n",
    "    plt.grid(linestyle='dashed', color='#ddd')\n",
    "    plt.ylabel('|B| (nT)')\n",
    "    plt.fill_between([row[\"start_time\"], row[\"end_time\"]],\n",
    "                     [plt.ylim()[0]]*2, [plt.ylim()[1]]*2,\n",
    "                     color='gray', alpha=0.2)\n",
    "    plt.xlim(t0, t1)\n",
    "    \n",
    "    plt.subplot(414)\n",
    "    plt.plot(omniweb_fh['t'][i:j], omniweb_fh['n'][i:j], color='orange', label='n')\n",
    "    plt.legend()\n",
    "    #plt.ylim([0, 25])\n",
    "    plt.grid(linestyle='dashed', color='#ddd')\n",
    "    plt.ylabel('n ($cm^{-3}$)')\n",
    "    plt.fill_between([row[\"start_time\"], row[\"end_time\"]],\n",
    "                     [plt.ylim()[0]]*2, [plt.ylim()[1]]*2,\n",
    "                     color='gray', alpha=0.2)\n",
    "    plt.xlim(t0, t1)\n",
    "    plt.tight_layout()"
   ]
  },
  {
   "cell_type": "code",
   "execution_count": null,
   "metadata": {},
   "outputs": [],
   "source": [
    "!mkdir -p plots/paper_sci_plots/omni"
   ]
  },
  {
   "cell_type": "code",
   "execution_count": null,
   "metadata": {},
   "outputs": [],
   "source": [
    "import progressbar\n",
    "\n",
    "for k in omniweb_fh.keys():\n",
    "    if k == 't': continue\n",
    "    mask = omniweb_fh[k] > 800\n",
    "    omniweb_fh[k][mask] = np.nan\n",
    "\n",
    "bar = progressbar.ProgressBar()\n",
    "    \n",
    "for _, row in bar(list(df_events.iterrows())):\n",
    "    mk_plot(row, omniweb_fh)\n",
    "    file_name = f'plots/paper_sci_plots/omni/omni_{row.start_time.isoformat()}_{row.end_time.isoformat()}.png'\n",
    "    plt.savefig(file_name)\n",
    "    #print(file_name)\n",
    "\n",
    "    plt.close()"
   ]
  },
  {
   "cell_type": "code",
   "execution_count": null,
   "metadata": {},
   "outputs": [],
   "source": [
    "import pytz\n",
    "\n",
    "mk_plot(\n",
    "    row=dict(\n",
    "        start_time=datetime(2016,5,21, 6,22, 19, tzinfo=pytz.utc), \n",
    "        end_time=datetime(2016, 5 ,21, 6,23,31, tzinfo=pytz.utc),\n",
    "        sat=16,\n",
    "    ),\n",
    "    omniweb_fh=omniweb_fh\n",
    ")"
   ]
  },
  {
   "cell_type": "code",
   "execution_count": null,
   "metadata": {},
   "outputs": [],
   "source": [
    "omniweb_fh['n'].max()"
   ]
  },
  {
   "cell_type": "code",
   "execution_count": null,
   "metadata": {},
   "outputs": [],
   "source": []
  },
  {
   "cell_type": "code",
   "execution_count": null,
   "metadata": {},
   "outputs": [],
   "source": []
  }
 ],
 "metadata": {
  "kernelspec": {
   "display_name": "Python 3",
   "language": "python",
   "name": "python3"
  },
  "language_info": {
   "codemirror_mode": {
    "name": "ipython",
    "version": 3
   },
   "file_extension": ".py",
   "mimetype": "text/x-python",
   "name": "python",
   "nbconvert_exporter": "python",
   "pygments_lexer": "ipython3",
   "version": "3.8.5"
  }
 },
 "nbformat": 4,
 "nbformat_minor": 4
}
