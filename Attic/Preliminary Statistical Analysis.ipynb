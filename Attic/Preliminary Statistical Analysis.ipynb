{
 "cells": [
  {
   "cell_type": "code",
   "execution_count": null,
   "metadata": {},
   "outputs": [],
   "source": [
    "from datetime import *\n",
    "from glob import glob\n",
    "import json\n",
    "import importlib\n",
    "import numpy as np\n",
    "import os\n",
    "import pylab as plt\n",
    "import pandas as pd\n",
    "import seaborn as sns\n",
    "import pytz\n",
    "import sys\n",
    "\n",
    "os.environ['CDF_LIB'] = '/home/dedasilv/.local/cdf/lib'\n",
    "sys.path.append('/home/dedasilv/disp')\n",
    "import lib_search_dispersion\n",
    "importlib.reload(lib_search_dispersion)\n",
    "\n",
    "%matplotlib inline\n",
    "sns.set_style('whitegrid')"
   ]
  },
  {
   "cell_type": "markdown",
   "metadata": {},
   "source": [
    "# Load Long Term Trend Data"
   ]
  },
  {
   "cell_type": "code",
   "execution_count": null,
   "metadata": {},
   "outputs": [],
   "source": [
    "dfs = []\n",
    "\n",
    "for output in glob('/home/dedasilv/disp/data/Long_Term_Trend_F*.csv'):\n",
    "    dfc = pd.read_csv(output, parse_dates=['start_time', 'end_time'])\n",
    "    dfs.append(dfc)\n",
    "\n",
    "df_ltt = pd.concat(dfs).reset_index()\n",
    "df_ltt"
   ]
  },
  {
   "cell_type": "markdown",
   "metadata": {},
   "source": [
    "# Load Kp Index data"
   ]
  },
  {
   "cell_type": "code",
   "execution_count": null,
   "metadata": {},
   "outputs": [],
   "source": [
    "df_kp = pd.read_csv('/home/dedasilv/disp/data/Kp_ap_since_1932.txt', comment='#', sep='\\\\s+',\n",
    "                    names='year month day hour hour2 days days_m Kp ap D'.split())\n",
    "\n",
    "df_kp.insert(0, 'timestamp', [\n",
    "    datetime(\n",
    "        int(row.year), int(row.month), int(row.day), int(row.hour),\n",
    "        tzinfo=pytz.utc\n",
    "    )\n",
    "    for (_, row) in df_kp.iterrows()\n",
    "])\n",
    "\n",
    "\n",
    "start_time = datetime(2010, 1, 1, tzinfo=pytz.utc)\n",
    "end_time = datetime(2015, 1, 1, tzinfo=pytz.utc)\n",
    "df_kp = df_kp[(df_kp.timestamp > start_time) & (df_kp.timestamp < end_time)]\n",
    "df_kp.head()"
   ]
  },
  {
   "cell_type": "markdown",
   "metadata": {},
   "source": [
    "# Assign Kp index to each detected event"
   ]
  },
  {
   "cell_type": "code",
   "execution_count": null,
   "metadata": {},
   "outputs": [],
   "source": [
    "df_ltt['Kp'] = [\n",
    "    df_kp.iloc[df_kp.timestamp.searchsorted(row.start_time)].Kp\n",
    "    for (_, row)\n",
    "    in df_ltt.iterrows()\n",
    "]\n",
    "df_ltt.head()"
   ]
  },
  {
   "cell_type": "markdown",
   "metadata": {},
   "source": [
    "# Visualize Statistics"
   ]
  },
  {
   "cell_type": "code",
   "execution_count": null,
   "metadata": {},
   "outputs": [],
   "source": [
    "bins = np.arange(2010, 2016)\n",
    "years = [row.start_time.year for (_, row) in df_ltt.iterrows()]\n",
    "bin_counts, _ = plt.histogram(years, bins=bins)\n",
    "plt.bar(bins[:-1], bin_counts, width=np.diff(bins), color='darkslategrey')\n",
    "plt.xticks(bins[:-1])\n",
    "plt.ylabel('Bin Counts')\n",
    "plt.title('Event Counts over Five Year Run')"
   ]
  },
  {
   "cell_type": "markdown",
   "metadata": {},
   "source": [
    "### Visualize Relationship with Kp"
   ]
  },
  {
   "cell_type": "code",
   "execution_count": null,
   "metadata": {},
   "outputs": [],
   "source": [
    "plt.hist(df_ltt.Kp, bins=np.arange(0, 10, .33))\n",
    "plt.xticks(range(10))\n",
    "plt.title('Distribution of Event Kp index (2010 - 2014, N = %d)' % len(df_ltt.index))\n",
    "plt.xlabel('Kp Index')\n",
    "plt.ylabel('Bin Count')\n",
    "plt.axvline(df_ltt.Kp.mean(), color='red', linestyle='dashed')\n",
    "print('Mean Kp: %.2f' % df_ltt.Kp.mean())\n",
    "None"
   ]
  },
  {
   "cell_type": "code",
   "execution_count": null,
   "metadata": {},
   "outputs": [],
   "source": [
    "plt.hist(df_kp.Kp, bins=np.arange(0, 10, .33))\n",
    "plt.xticks(range(10))\n",
    "plt.title('Distribution of All Kp index (2010 - 2014, N = %d)' % len(df_kp.index))\n",
    "plt.xlabel('Kp Index')\n",
    "plt.ylabel('Bin Count')\n",
    "plt.axvline(df_kp.Kp.mean(), color='red', linestyle='dashed')\n",
    "print('Mean Kp: %.2f' % df_kp.Kp.mean())\n",
    "None"
   ]
  },
  {
   "cell_type": "code",
   "execution_count": null,
   "metadata": {},
   "outputs": [],
   "source": [
    "wbin = .33*4\n",
    "bins = np.arange(0, df_kp.Kp.max()+wbin, wbin)\n",
    "bin_counts_all, _ = np.histogram(df_kp.Kp, bins=bins)\n",
    "bin_counts_evt, _ = np.histogram(df_ltt.Kp, bins=bins)\n",
    "\n",
    "bin_counts_all = bin_counts_all.astype(float) /  bin_counts_all.sum()\n",
    "bin_counts_evt = bin_counts_evt.astype(float) / bin_counts_evt.sum()\n",
    "\n",
    "P = np.zeros_like(bin_counts_all)\n",
    "mask = (bin_counts_all > 0)\n",
    "P[mask] = bin_counts_evt[mask]/bin_counts_all[mask]\n",
    "P/=P.max()\n",
    "plt.figure(figsize=(8, 8))\n",
    "plt.bar(bins[:-1], P, width=np.diff(bins), align='edge', color='lightseagreen')\n",
    "plt.title('Relative Likelihood of Detection (Detection Rate Normalized by Kp frequency)')\n",
    "plt.xlabel('Kp Index', fontsize=20)\n",
    "plt.ylabel('Relative Frequency', fontsize=20)\n",
    "plt.xlim(bins[0], bins[-1])\n",
    "plt.grid(False)\n",
    "\n",
    "xt = np.arange(9) + 0.5\n",
    "xtl = [str(int(x)) for x in range(9)]\n",
    "plt.xticks(xt, xtl, horizontalalignment='left')\n",
    "plt.grid(True)\n",
    "None"
   ]
  },
  {
   "cell_type": "markdown",
   "metadata": {},
   "source": [
    "# Visualize Relationship With $\\vec{B}$"
   ]
  },
  {
   "cell_type": "code",
   "execution_count": null,
   "metadata": {},
   "outputs": [],
   "source": [
    "case_file = json.load(open('case_files/Long_Term_Trend.json'))\n",
    "omniweb_fh = lib_search_dispersion.read_omniweb_files(case_file['OMNIWEB_FILES'], silent=True)"
   ]
  },
  {
   "cell_type": "code",
   "execution_count": null,
   "metadata": {},
   "outputs": [],
   "source": [
    "df_ltt['By'] = [\n",
    "    omniweb_fh['By'][omniweb_fh['t'].searchsorted(row.start_time)]\n",
    "    for (_, row) in df_ltt.iterrows()\n",
    "]\n",
    "df_ltt['Bz'] = [\n",
    "    omniweb_fh['Bz'][omniweb_fh['t'].searchsorted(row.start_time)]\n",
    "    for (_, row) in df_ltt.iterrows()\n",
    "]\n",
    "df_ltt.loc[df_ltt['By'] > lib_search_dispersion.OMNIWEB_FILL_VALUE, 'By'] = np.nan\n",
    "df_ltt.loc[df_ltt['Bz'] > lib_search_dispersion.OMNIWEB_FILL_VALUE, 'Bz'] = np.nan"
   ]
  },
  {
   "cell_type": "code",
   "execution_count": null,
   "metadata": {},
   "outputs": [],
   "source": [
    "\n",
    "Bz_bins = np.arange(-25, -3, 1)\n",
    "By_bins = np.arange(-25, 26, 1)\n",
    "plt.figure(figsize=(16, 5))\n",
    "plt.subplot(122)\n",
    "plt.hist(df_ltt.Bz, bins=Bz_bins, color='purple')\n",
    "plt.xlabel('Bz (nT)')\n",
    "plt.ylabel('Bin Count')\n",
    "plt.title('Histogram of Bz over all events (N=%d)'%len(df_ltt.index))\n",
    "plt.subplot(121)\n",
    "plt.hist(df_ltt.By, bins=By_bins, color='orange')\n",
    "plt.xlabel('By (nT)')\n",
    "plt.ylabel('Bin Count')\n",
    "plt.title('Histogram of By over all events (N=%d)'%len(df_ltt.index))\n",
    "None"
   ]
  },
  {
   "cell_type": "code",
   "execution_count": null,
   "metadata": {},
   "outputs": [],
   "source": [
    "\n",
    "Bz_bins = np.arange(-25, -3, 1)\n",
    "By_bins = np.arange(-25, 26, 1)\n",
    "\n",
    "Bz_evt, _ = np.histogram(df_ltt.Bz, bins=Bz_bins, density=True)\n",
    "Bz_all, _ = np.histogram(omniweb_fh['Bz'], bins=Bz_bins, density=True)\n",
    "\n",
    "By_evt, _ = np.histogram(df_ltt.By, bins=By_bins, density=True)\n",
    "By_all, _ = np.histogram(omniweb_fh['By'], bins=By_bins, density=True)\n",
    "\n",
    "P_Bz = np.zeros_like(Bz_evt)\n",
    "P_Bz[Bz_all>0] = Bz_evt[Bz_all>0] / Bz_all[Bz_all>0]\n",
    "P_Bz /= P_Bz.max()\n",
    "\n",
    "P_By = np.zeros_like(By_evt)\n",
    "P_By[By_all>0] = By_evt[By_all>0] / By_all[By_all>0]\n",
    "P_By /= P_By.max()\n",
    "\n",
    "plt.figure(figsize=(16, 5))\n",
    "plt.subplot(122)\n",
    "plt.bar(Bz_bins[:-1], P_Bz, width=np.diff(Bz_bins), color='purple')\n",
    "plt.xlabel('Bz (nT)')\n",
    "plt.ylabel('Relative Frequency')\n",
    "plt.title('Relative Likelihood of Detection (Detection Rate\\nNormalized by Bz Fequency, N=%d)'%len(df_ltt.index))\n",
    "plt.subplot(121)\n",
    "plt.bar(By_bins[:-1], P_By, width=np.diff(By_bins), color='orange')\n",
    "plt.xlabel('By (nT)')\n",
    "plt.ylabel('Relative Frequency')\n",
    "plt.title('Relative Likelihood of Detection (Detection Rate\\nNormalized by By Frequency, N=%d)'%len(df_ltt.index))\n",
    "None"
   ]
  },
  {
   "cell_type": "markdown",
   "metadata": {},
   "source": [
    "### Count number of Events Per Day"
   ]
  },
  {
   "cell_type": "code",
   "execution_count": null,
   "metadata": {},
   "outputs": [],
   "source": [
    "if 'date' in df_ltt.columns:\n",
    "    del df_ltt['date']\n",
    "df_ltt.insert(0, 'date', [row.start_time.date() for (_, row) in df_ltt.iterrows()])\n",
    "df_ltt.head()"
   ]
  },
  {
   "cell_type": "code",
   "execution_count": null,
   "metadata": {},
   "outputs": [],
   "source": [
    "df_event_count = df_ltt[['date', 'start_time']].groupby('date').count().rename(columns=dict(start_time='num_events'))\n",
    "df_event_count.reset_index(inplace=True)\n",
    "df_event_count.head()"
   ]
  },
  {
   "cell_type": "markdown",
   "metadata": {},
   "source": [
    "This looks exponential -- Poisson arrival rate?"
   ]
  },
  {
   "cell_type": "code",
   "execution_count": null,
   "metadata": {},
   "outputs": [],
   "source": [
    "bins = list(range(14))\n",
    "plt.hist(df_event_count.num_events, bins=bins, color='r')\n",
    "plt.xticks(bins)\n",
    "plt.ylabel('Bin Count')\n",
    "plt.xlabel('# Events / Day')\n",
    "plt.title('Histogram of # Events / Day (Ndays = %d)' % len(df_event_count.index))\n",
    "None"
   ]
  },
  {
   "cell_type": "code",
   "execution_count": null,
   "metadata": {},
   "outputs": [],
   "source": [
    "df_ltt['num_events'] = [\n",
    "    df_event_count.iloc[df_event_count.date.searchsorted(row.date)].num_events\n",
    "    for (_, row) in df_ltt.iterrows()\n",
    "]\n",
    "df_ltt.head()"
   ]
  },
  {
   "cell_type": "code",
   "execution_count": null,
   "metadata": {},
   "outputs": [],
   "source": [
    "binsx = np.arange(1,25)\n",
    "binsy = np.arange(0, 10, .33)\n",
    "plt.hist2d(df_ltt.num_events, df_ltt.Kp, bins=[binsx, binsy])\n",
    "plt.colorbar().set_label('Bin Count')\n",
    "plt.xlabel('Number Events')\n",
    "plt.ylabel('Kp Index')\n",
    "plt.title('Histogram of Number of Events vs Kp Index')\n",
    "plt.xticks(binsx[::2])\n",
    "None"
   ]
  }
 ],
 "metadata": {
  "kernelspec": {
   "display_name": "Python 3",
   "language": "python",
   "name": "python3"
  },
  "language_info": {
   "codemirror_mode": {
    "name": "ipython",
    "version": 3
   },
   "file_extension": ".py",
   "mimetype": "text/x-python",
   "name": "python",
   "nbconvert_exporter": "python",
   "pygments_lexer": "ipython3",
   "version": "3.8.5"
  }
 },
 "nbformat": 4,
 "nbformat_minor": 4
}
