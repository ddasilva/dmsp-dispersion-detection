{
 "cells": [
  {
   "cell_type": "code",
   "execution_count": null,
   "metadata": {},
   "outputs": [],
   "source": [
    "import os\n",
    "import pylab as plt\n",
    "from spacepy import pycdf\n",
    "import numpy as np\n",
    "from datetime import *\n",
    "import pandas as pd\n",
    "os.environ['CDF_LIB'] = '/home/dedasilv/.local/cdf/lib'\n",
    "\n",
    "cdf = pycdf.CDF('../data/Dec20_2015_storm/omni_hro_1min_20151201_v01.cdf')"
   ]
  },
  {
   "cell_type": "code",
   "execution_count": null,
   "metadata": {},
   "outputs": [],
   "source": [
    "t = cdf['Epoch'][:]\n",
    "n = cdf['proton_density'][:]\n",
    "Bz = cdf['BZ_GSM'][:]\n",
    "Vx = cdf['Vx'][:]\n",
    "Vy = cdf['Vy'][:]\n",
    "Vz = cdf['Vz'][:]\n",
    "symh = cdf['SYM_H'][:]"
   ]
  },
  {
   "cell_type": "code",
   "execution_count": null,
   "metadata": {},
   "outputs": [],
   "source": [
    "n[n > 999] = np.nan\n",
    "Bz[Bz > 999] = np.nan\n",
    "Vx[Vx > 999] = np.nan\n",
    "Vy[Vy > 999] = np.nan\n",
    "Vz[Vz > 999] = np.nan\n",
    "mask = (t > datetime(2015, 12, 18)) & (t < datetime(2015, 12, 23))\n",
    "speed = np.sqrt(Vx**2 + Vy**2 + Vz**2)"
   ]
  },
  {
   "cell_type": "code",
   "execution_count": null,
   "metadata": {},
   "outputs": [],
   "source": [
    "import glob\n",
    "\n",
    "#files = glob.glob('../data/Dec20_2015_storm_F*_0.4.csv')\n",
    "\n",
    "files = ['../data/Dec20_2015_storm_human_selecteted.csv']\n",
    "dfs = []\n",
    "for file in files:\n",
    "    df = pd.read_csv(file, parse_dates=['start_time', 'end_time'])\n",
    "    dfs.append(df)\n",
    "    \n",
    "df_sel = pd.concat(dfs).reset_index()"
   ]
  },
  {
   "cell_type": "code",
   "execution_count": null,
   "metadata": {},
   "outputs": [],
   "source": [
    "df_sel"
   ]
  },
  {
   "cell_type": "code",
   "execution_count": null,
   "metadata": {},
   "outputs": [],
   "source": [
    "df_sel"
   ]
  },
  {
   "cell_type": "code",
   "execution_count": null,
   "metadata": {},
   "outputs": [],
   "source": [
    "small_size, med_size, big_size = 16, 18, 20\n",
    "plt.rc('font', size=small_size)          # controls default text sizes\n",
    "plt.rc('axes', titlesize=small_size)     # fontsize of the axes title\n",
    "plt.rc('axes', labelsize=med_size)       # fontsize of the x and y labels\n",
    "plt.rc('xtick', labelsize=small_size)    # fontsize of the tick labels\n",
    "plt.rc('ytick', labelsize=small_size)    # fontsize of the tick labels\n",
    "plt.rc('legend', fontsize=small_size)    # legend fontsize\n",
    "plt.rc('figure', titlesize=big_size)     # fontsize of the figure title\n",
    "\n",
    "fig, axes = plt.subplots(4, 1, figsize=(24, 14), sharex='all')\n",
    "\n",
    "#fig.suptitle('December 20, 2015 Storm\\nDispersion Events', fontsize=30, fontweight='bold')\n",
    "\n",
    "axes[0].plot(t[mask], symh[mask], color='black')\n",
    "axes[0].axhline(0, color='black')\n",
    "axes[0].set_ylabel('Dst\\n(nT)', fontsize=20, color='black')\n",
    "axes[1].plot(t[mask], Bz[mask], color='C1')\n",
    "axes[1].set_ylabel('IMF Bz\\n(nT)', fontsize=20,  color='C1',)\n",
    "#axes[1].axhline(0, color='black')\n",
    "axes[2].plot(t[mask], n[mask], color='C2')\n",
    "axes[2].set_ylabel('IMF Number Density\\n($cm^{-3}$)', fontsize=20, color='C2')\n",
    "axes[3].plot(t[mask], speed[mask], color='C4')\n",
    "axes[3].set_ylabel('IMF Velocity\\n(km/s)', fontsize=20, color='C4')\n",
    "\n",
    "\n",
    "#axes[2].set_xlim(datetime(2015, 12, 18, 12), datetime(2015, 12, 22, 10))\n",
    "for ax in axes:\n",
    "    ax.grid(True, color='gray', linestyle='dashed')\n",
    "\n",
    "    for i, row in df_sel.iterrows():\n",
    "        if i == 0:\n",
    "            kwargs = {'label': 'Dispersion Event'}\n",
    "        else:\n",
    "            kwargs = {}\n",
    "        ax.axvline(row.start_time, color='red', **kwargs)\n",
    "    \n",
    "    ax.legend()"
   ]
  },
  {
   "cell_type": "code",
   "execution_count": null,
   "metadata": {},
   "outputs": [],
   "source": []
  },
  {
   "cell_type": "code",
   "execution_count": null,
   "metadata": {},
   "outputs": [],
   "source": []
  }
 ],
 "metadata": {
  "kernelspec": {
   "display_name": "Python 3",
   "language": "python",
   "name": "python3"
  },
  "language_info": {
   "codemirror_mode": {
    "name": "ipython",
    "version": 3
   },
   "file_extension": ".py",
   "mimetype": "text/x-python",
   "name": "python",
   "nbconvert_exporter": "python",
   "pygments_lexer": "ipython3",
   "version": "3.8.0"
  }
 },
 "nbformat": 4,
 "nbformat_minor": 4
}
