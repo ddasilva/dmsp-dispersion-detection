{
 "cells": [
  {
   "cell_type": "code",
   "execution_count": null,
   "metadata": {},
   "outputs": [],
   "source": [
    "import progressbar\n",
    "import h5py\n",
    "import pandas as pd\n",
    "from datetime import datetime, timedelta\n",
    "import numpy as np\n",
    "import pytz\n",
    "import warnings\n",
    "import pylab as plt\n",
    "%matplotlib inline\n",
    "from matplotlib.colors import LogNorm\n",
    "\n",
    "import search_dispersion_events \n",
    "import importlib\n",
    "importlib.reload(search_dispersion_events)"
   ]
  },
  {
   "cell_type": "code",
   "execution_count": null,
   "metadata": {},
   "outputs": [],
   "source": [
    "df = pd.read_csv('data/train.csv', parse_dates=['start_time', 'end_time'])\n",
    "df.head()"
   ]
  },
  {
   "cell_type": "code",
   "execution_count": null,
   "metadata": {},
   "outputs": [],
   "source": [
    "def get_metrics(row):\n",
    "    importlib.reload(search_dispersion_events)\n",
    "    \n",
    "    # Do computation --------------------------------------------------\n",
    "    fh = search_dispersion_events.read_file(row.filename)\n",
    "\n",
    "    dEicdt_smooth, Eic = search_dispersion_events.estimate_log_Eic_smooth_derivative(fh)\n",
    "\n",
    "    _, integrand,integral, upper_area_frac = search_dispersion_events.walk_and_integrate(\n",
    "        fh, dEicdt_smooth, Eic, search_dispersion_events.DEFAULT_INTERVAL_LENGTH,\n",
    "        return_integrand=True\n",
    "    )\n",
    "        \n",
    "    i = fh['t'].searchsorted(row.start_time)\n",
    "    j = fh['t'].searchsorted(row.end_time)\n",
    "\n",
    "    return row.name, integral[i:j].max(), upper_area_frac[i:j].max(), fh['mlat'][i], fh['mlat'][j]"
   ]
  },
  {
   "cell_type": "code",
   "execution_count": null,
   "metadata": {},
   "outputs": [],
   "source": [
    "from joblib import Parallel, delayed\n",
    "\n",
    "disp_df = df[df['class'] == 1]\n",
    "metric_rows = Parallel(n_jobs=12)(delayed(get_metrics)(row) for _, row in disp_df.iterrows())\n",
    "metric_df = pd.DataFrame(metric_rows, columns=['row_name', 'integral', 'upper_area_frac', 'mlat_start', 'mlat_end'])"
   ]
  },
  {
   "cell_type": "code",
   "execution_count": null,
   "metadata": {},
   "outputs": [],
   "source": [
    "plt.hist(metric_df.integral, bins=40)\n",
    "plt.xlabel('Integral')\n",
    "plt.ylabel('Bin Count')\n",
    "plt.title('Max Integral in Sub-Windows for Example Set')\n",
    "None"
   ]
  },
  {
   "cell_type": "code",
   "execution_count": null,
   "metadata": {},
   "outputs": [],
   "source": [
    "plt.hist(metric_df.upper_area_frac, bins=40)\n",
    "plt.xlabel('Upper Area Fraction')\n",
    "plt.ylabel('Bin Count')\n",
    "plt.title('Max Upper Area Fraction in Sub-Windows for Example Set')\n",
    "\n",
    "None"
   ]
  }
 ],
 "metadata": {
  "kernelspec": {
   "display_name": "Python 3",
   "language": "python",
   "name": "python3"
  },
  "language_info": {
   "codemirror_mode": {
    "name": "ipython",
    "version": 3
   },
   "file_extension": ".py",
   "mimetype": "text/x-python",
   "name": "python",
   "nbconvert_exporter": "python",
   "pygments_lexer": "ipython3",
   "version": "3.8.0"
  }
 },
 "nbformat": 4,
 "nbformat_minor": 4
}
