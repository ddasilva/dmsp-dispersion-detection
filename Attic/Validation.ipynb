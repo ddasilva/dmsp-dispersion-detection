{
 "cells": [
  {
   "cell_type": "code",
   "execution_count": null,
   "metadata": {},
   "outputs": [],
   "source": [
    "from datetime import timedelta\n",
    "import dateutil\n",
    "import glob\n",
    "from intervaltree import IntervalTree\n",
    "import pandas as pd\n",
    "import matplotlib.cm as cm\n",
    "import numpy as np\n",
    "import pylab as plt\n",
    "import os\n",
    "\n",
    "%matplotlib inline"
   ]
  },
  {
   "cell_type": "markdown",
   "metadata": {},
   "source": [
    "# Load Hand Picked Events"
   ]
  },
  {
   "cell_type": "code",
   "execution_count": null,
   "metadata": {},
   "outputs": [],
   "source": [
    "df_rows = []\n",
    "\n",
    "for sat in os.listdir('./data/validation_selections/'):\n",
    "    for img in os.listdir(f'./data/validation_selections/{sat}'):\n",
    "        start_time = dateutil.parser.parse(img.split('_', 5)[-1].split('.')[0][:-3].replace('_', ':'))\n",
    "        end_time = start_time + timedelta(minutes=5)\n",
    "        \n",
    "        df_rows.append((sat, start_time, end_time, img))\n",
    "        \n",
    "df_hand = pd.DataFrame(df_rows, columns=['sat', 'start_time', 'end_time', 'image_path'])\n",
    "df_hand"
   ]
  },
  {
   "cell_type": "markdown",
   "metadata": {},
   "source": [
    "# Load Algorithm Output"
   ]
  },
  {
   "cell_type": "code",
   "execution_count": null,
   "metadata": {},
   "outputs": [],
   "source": [
    "WINDOW_SIZES = [60]\n",
    "\n",
    "thresholds = {}\n",
    "\n",
    "for window_size in WINDOW_SIZES:\n",
    "    files = glob.glob(f'data/Dec20_2015_storm_F1?_3.0_{window_size}_*.csv')\n",
    "    thresholds[window_size] = sorted(set(float(f.split('_')[-1][:-4]) for f in files))\n",
    "\n",
    "thresholds[60]"
   ]
  },
  {
   "cell_type": "code",
   "execution_count": null,
   "metadata": {},
   "outputs": [],
   "source": [
    "df_alg = {}\n",
    "\n",
    "for window_size in WINDOW_SIZES:\n",
    "    for threshold in thresholds[window_size]:\n",
    "        files = glob.glob(f'data/Dec20_2015_storm_F1?_3.0_{window_size}_{threshold:.1f}.csv')\n",
    "        files.sort()\n",
    "\n",
    "        dataframes = []\n",
    "\n",
    "        if not files:\n",
    "            print(window_size, threshold, f'data/Dec20_2015_storm_F1?_3.0_{window_size}_{threshold:.1f}.csv')\n",
    "        for f in files:\n",
    "            sat = f.split(\"_\")[3]\n",
    "            df = pd.read_csv(f, parse_dates=['start_time', 'end_time'])\n",
    "            df.insert(0, 'sat', [sat]*len(df.index))\n",
    "            dataframes.append(df)\n",
    "\n",
    "        df_alg[window_size, threshold] = pd.concat(dataframes).reset_index(drop=True)\n",
    "\n",
    "df_alg[60,.8]"
   ]
  },
  {
   "cell_type": "markdown",
   "metadata": {},
   "source": [
    "# Compute TP and FP"
   ]
  },
  {
   "cell_type": "code",
   "execution_count": null,
   "metadata": {},
   "outputs": [],
   "source": [
    "tree_hand = IntervalTree()\n",
    "\n",
    "for _, row in df_hand.iterrows():\n",
    "    tree_hand[row.start_time:row.end_time] = row.sat\n",
    "\n",
    "tree_hand"
   ]
  },
  {
   "cell_type": "code",
   "execution_count": null,
   "metadata": {},
   "outputs": [],
   "source": [
    "df_roc = {}\n",
    "\n",
    "for window_size in WINDOW_SIZES:\n",
    "    df_rows = []\n",
    "\n",
    "    for threshold in thresholds[window_size]:\n",
    "        TP = 0\n",
    "        FP = 0\n",
    "        total = 0\n",
    "\n",
    "        for _, row in df_alg[window_size, threshold].iterrows():\n",
    "            results = tree_hand[row.start_time:row.end_time]\n",
    "\n",
    "            if any(result.data == row.sat for result in results):\n",
    "                TP += 1\n",
    "            else:\n",
    "                FP += 1\n",
    "\n",
    "            total += 1\n",
    "\n",
    "        if total == 0:\n",
    "            df_rows.append((threshold, np.nan, np.nan, TP, FP, total))\n",
    "        else:        \n",
    "\n",
    "            total_false = timedelta(hours=24*5)/timedelta(minutes=5) - len(tree_hand)\n",
    "            df_rows.append((threshold, TP/len(tree_hand), FP/total_false, TP, FP, total))\n",
    "\n",
    "        df_roc[window_size] = pd.DataFrame(df_rows, columns=['threshold', 'TPR', 'FPR', 'TP', 'FP', 'Total_Count'])\n",
    "df_roc[60]"
   ]
  },
  {
   "cell_type": "code",
   "execution_count": null,
   "metadata": {},
   "outputs": [],
   "source": [
    "plt.figure(figsize=(8, 6))\n",
    "colors = cm.cool(WINDOW_SIZES/np.max(WINDOW_SIZES))\n",
    "\n",
    "for window_size, color in zip(WINDOW_SIZES, colors):\n",
    "    plt.plot(df_roc[window_size].FPR, df_roc[window_size].TPR, color=color, label='Window = %d sec' % window_size)\n",
    "plt.ylabel('True Positive Rate', fontsize=20)\n",
    "plt.xlabel('False Positive Rate', fontsize=20)\n",
    "plt.ylim([0, 1.01])\n",
    "plt.grid(linestyle='dashed', color='#cccc')\n",
    "plt.xlim([0, 0.06])\n",
    "plt.legend()"
   ]
  },
  {
   "cell_type": "code",
   "execution_count": null,
   "metadata": {},
   "outputs": [],
   "source": [
    "for threshold in thresholds:\n",
    "    tree_alg = IntervalTree()\n",
    "    for _, row in df_alg[window_size, threshold].iterrows():\n",
    "        tree_alg[row.start_time:row.end_time] = row.sat\n",
    "    \n",
    "    print(f'Threshold {threshold:.1f} Missing')\n",
    "    for _, row in df_hand.iterrows():\n",
    "        results = tree_alg[row.start_time:row.end_time]\n",
    "        if not any(result.data == row.sat for result in results):\n",
    "            print(row.start_time, row.end_time, row.image_path)\n",
    "    print()"
   ]
  },
  {
   "cell_type": "code",
   "execution_count": null,
   "metadata": {},
   "outputs": [],
   "source": []
  }
 ],
 "metadata": {
  "kernelspec": {
   "display_name": "Python 3",
   "language": "python",
   "name": "python3"
  },
  "language_info": {
   "codemirror_mode": {
    "name": "ipython",
    "version": 3
   },
   "file_extension": ".py",
   "mimetype": "text/x-python",
   "name": "python",
   "nbconvert_exporter": "python",
   "pygments_lexer": "ipython3",
   "version": "3.8.5"
  }
 },
 "nbformat": 4,
 "nbformat_minor": 4
}
