{
 "cells": [
  {
   "cell_type": "code",
   "execution_count": 1,
   "metadata": {},
   "outputs": [
    {
     "data": {
      "text/plain": [
       "<module 'search_dispersion_events' from '/mnt/c/Users/dedasilv/OneDrive - NASA/DMSP/Dispersion/Software/search_dispersion_events.py'>"
      ]
     },
     "execution_count": 1,
     "metadata": {},
     "output_type": "execute_result"
    }
   ],
   "source": [
    "import progressbar\n",
    "import h5py\n",
    "import pandas as pd\n",
    "from datetime import datetime, timedelta\n",
    "import numpy as np\n",
    "import pytz\n",
    "import warnings\n",
    "import pylab as plt\n",
    "%matplotlib inline\n",
    "from matplotlib.colors import LogNorm\n",
    "from matplotlib import dates as mdates\n",
    "import search_dispersion_events \n",
    "import importlib\n",
    "import os\n",
    "importlib.reload(search_dispersion_events)"
   ]
  },
  {
   "cell_type": "code",
   "execution_count": 2,
   "metadata": {},
   "outputs": [
    {
     "data": {
      "text/html": [
       "<div>\n",
       "<style scoped>\n",
       "    .dataframe tbody tr th:only-of-type {\n",
       "        vertical-align: middle;\n",
       "    }\n",
       "\n",
       "    .dataframe tbody tr th {\n",
       "        vertical-align: top;\n",
       "    }\n",
       "\n",
       "    .dataframe thead th {\n",
       "        text-align: right;\n",
       "    }\n",
       "</style>\n",
       "<table border=\"1\" class=\"dataframe\">\n",
       "  <thead>\n",
       "    <tr style=\"text-align: right;\">\n",
       "      <th></th>\n",
       "      <th>filename</th>\n",
       "      <th>sat</th>\n",
       "      <th>date</th>\n",
       "      <th>start_time</th>\n",
       "      <th>end_time</th>\n",
       "    </tr>\n",
       "  </thead>\n",
       "  <tbody>\n",
       "    <tr>\n",
       "      <th>0</th>\n",
       "      <td>data/2011/08/05/dms_20110805_17e.001.hdf5</td>\n",
       "      <td>17</td>\n",
       "      <td>2011-08-05</td>\n",
       "      <td>2011-08-05 11:30:00+00:00</td>\n",
       "      <td>2011-08-05 11:33:00+00:00</td>\n",
       "    </tr>\n",
       "    <tr>\n",
       "      <th>1</th>\n",
       "      <td>data/2011/08/05/dms_20110805_16e.001.hdf5</td>\n",
       "      <td>16</td>\n",
       "      <td>2011-08-05</td>\n",
       "      <td>2011-08-05 12:55:00+00:00</td>\n",
       "      <td>2011-08-05 12:57:00+00:00</td>\n",
       "    </tr>\n",
       "    <tr>\n",
       "      <th>2</th>\n",
       "      <td>data/2011/08/05/dms_20110805_16e.001.hdf5</td>\n",
       "      <td>16</td>\n",
       "      <td>2011-08-05</td>\n",
       "      <td>2011-08-05 12:59:00+00:00</td>\n",
       "      <td>2011-08-05 13:02:00+00:00</td>\n",
       "    </tr>\n",
       "    <tr>\n",
       "      <th>3</th>\n",
       "      <td>data/2011/08/05/dms_20110805_18e.001.hdf5</td>\n",
       "      <td>18</td>\n",
       "      <td>2011-08-05</td>\n",
       "      <td>2011-08-05 15:48:00+00:00</td>\n",
       "      <td>2011-08-05 15:51:00+00:00</td>\n",
       "    </tr>\n",
       "    <tr>\n",
       "      <th>4</th>\n",
       "      <td>data/2011/08/05/dms_20110805_16e.001.hdf5</td>\n",
       "      <td>16</td>\n",
       "      <td>2011-08-05</td>\n",
       "      <td>2011-08-05 17:03:00+00:00</td>\n",
       "      <td>2011-08-05 17:06:00+00:00</td>\n",
       "    </tr>\n",
       "  </tbody>\n",
       "</table>\n",
       "</div>"
      ],
      "text/plain": [
       "                                    filename  sat        date  \\\n",
       "0  data/2011/08/05/dms_20110805_17e.001.hdf5   17  2011-08-05   \n",
       "1  data/2011/08/05/dms_20110805_16e.001.hdf5   16  2011-08-05   \n",
       "2  data/2011/08/05/dms_20110805_16e.001.hdf5   16  2011-08-05   \n",
       "3  data/2011/08/05/dms_20110805_18e.001.hdf5   18  2011-08-05   \n",
       "4  data/2011/08/05/dms_20110805_16e.001.hdf5   16  2011-08-05   \n",
       "\n",
       "                 start_time                  end_time  \n",
       "0 2011-08-05 11:30:00+00:00 2011-08-05 11:33:00+00:00  \n",
       "1 2011-08-05 12:55:00+00:00 2011-08-05 12:57:00+00:00  \n",
       "2 2011-08-05 12:59:00+00:00 2011-08-05 13:02:00+00:00  \n",
       "3 2011-08-05 15:48:00+00:00 2011-08-05 15:51:00+00:00  \n",
       "4 2011-08-05 17:03:00+00:00 2011-08-05 17:06:00+00:00  "
      ]
     },
     "execution_count": 2,
     "metadata": {},
     "output_type": "execute_result"
    }
   ],
   "source": [
    "df_train = pd.read_csv('data/train.csv', parse_dates=['start_time', 'end_time'])\n",
    "df_val = pd.read_csv('data/val.csv', parse_dates=['start_time', 'end_time'])\n",
    "df = pd.concat([df_train, df_val]).sort_values('start_time').reset_index()\n",
    "del df['index']\n",
    "del df['class']\n",
    "df.head()"
   ]
  },
  {
   "cell_type": "code",
   "execution_count": 5,
   "metadata": {},
   "outputs": [],
   "source": [
    "ORBIT_PERIOD = timedelta(minutes=101.6)\n",
    "\n",
    "\n",
    "def make_plot(index, row, save=False, delta_orbits=[-2, -1, 0, 1, 2], figsize=(27, 5)):\n",
    "    out_filename = os.path.join('./plots/revisits', f'{index:04d}_' + os.path.basename(row.filename).replace('.hdf5', '.png'))\n",
    "\n",
    "    if save and os.path.exists(out_filename):\n",
    "        return\n",
    "    \n",
    "    fh = search_dispersion_events.read_file(row.filename)\n",
    "    fig, axes = plt.subplots(1, len(delta_orbits), figsize=figsize)\n",
    "    disabled = []\n",
    "    \n",
    "    for cnt, delta_orbit in enumerate(delta_orbits):\n",
    "        delay = delta_orbit * ORBIT_PERIOD # will be negative if delta_orbit < 0\n",
    "        start_time = row.start_time + delay\n",
    "        end_time = row.end_time + delay\n",
    "        \n",
    "        i = fh['t'].searchsorted(start_time)\n",
    "        j = fh['t'].searchsorted(end_time)\n",
    "        \n",
    "        if i == 0 or j >= fh['t'].size - 1 or max(i, j) - min(i, j) <= 1:\n",
    "            axes[cnt].set_axis_off()\n",
    "            disabled.append(cnt)\n",
    "            #if delta_orbit not in (delta_orbits[0], delta_orbits[-1]):\n",
    "            #    print(cnt, i, j, fh['t'].shape, np.all(np.diff(fh['t']) > timedelta(seconds=0)))\n",
    "            continue\n",
    "            \n",
    "        im = axes[cnt].pcolor(fh['t'][i:j], np.log10(fh['ch_energy']), fh['ion_d_ener'][:, i:j], \n",
    "                              norm=LogNorm(vmin=1e3, vmax=1e8), cmap='jet')\n",
    "        plt.colorbar(im, ax=axes[cnt]).set_label('Log Energy Flux')\n",
    "        \n",
    "        axes[cnt].invert_yaxis()\n",
    "        axes[cnt].set_ylabel('Ion\\nLog Energy [eV] - Ions')\n",
    "\n",
    "        time_length = end_time - start_time\n",
    "\n",
    "        title = f'{time_length.total_seconds() / 60:.1f} minutes ; {start_time.isoformat()} to\\n{end_time.isoformat()}\\n'\n",
    "        title += 'MLAT = (%.1f deg to %.1f deg)' % (fh['mlat'][i], fh['mlat'][j])\n",
    "        title += ' Northward' if fh['mlat'][j] > fh['mlat'][i] else ' Southward'\n",
    "        axes[cnt].set_title(title)\n",
    "\n",
    "    fig.tight_layout()\n",
    "    for cnt, ax in enumerate(axes):\n",
    "        if cnt in disabled:\n",
    "            continue\n",
    "        locator = mdates.AutoDateLocator(minticks=3, maxticks=6)\n",
    "        formatter= mdates.DateFormatter('%H:%M:%S')\n",
    "        ax.xaxis.set_major_locator(locator)\n",
    "        ax.xaxis.set_major_formatter(formatter)\n",
    "\n",
    "    if save:\n",
    "        try:\n",
    "            fig.savefig(out_filename)\n",
    "        except ValueError as e:\n",
    "            print(e)\n",
    "        plt.close(fig)"
   ]
  },
  {
   "cell_type": "code",
   "execution_count": 6,
   "metadata": {},
   "outputs": [
    {
     "name": "stderr",
     "output_type": "stream",
     "text": [
      " 38% (132 of 346) |########              | Elapsed Time: 0:00:14 ETA:   0:06:23<ipython-input-5-4c605d4de762>:54: UserWarning: AutoDateLocator was unable to pick an appropriate interval for this date range. It may be necessary to add an interval value to the AutoDateLocator's intervald dictionary. Defaulting to 30.\n",
      "  fig.savefig(out_filename)\n",
      "100% (346 of 346) |######################| Elapsed Time: 0:05:35 Time:  0:05:35\n"
     ]
    }
   ],
   "source": [
    "bar = progressbar.ProgressBar()\n",
    "\n",
    "for index, row in bar(list(df.iterrows())):\n",
    "    make_plot(index, row, save=True)"
   ]
  },
  {
   "cell_type": "code",
   "execution_count": null,
   "metadata": {},
   "outputs": [],
   "source": []
  },
  {
   "cell_type": "code",
   "execution_count": null,
   "metadata": {},
   "outputs": [],
   "source": []
  },
  {
   "cell_type": "code",
   "execution_count": null,
   "metadata": {},
   "outputs": [],
   "source": []
  }
 ],
 "metadata": {
  "kernelspec": {
   "display_name": "Python 3",
   "language": "python",
   "name": "python3"
  },
  "language_info": {
   "codemirror_mode": {
    "name": "ipython",
    "version": 3
   },
   "file_extension": ".py",
   "mimetype": "text/x-python",
   "name": "python",
   "nbconvert_exporter": "python",
   "pygments_lexer": "ipython3",
   "version": "3.8.3"
  }
 },
 "nbformat": 4,
 "nbformat_minor": 4
}
