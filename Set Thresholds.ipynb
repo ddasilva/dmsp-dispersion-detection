{
 "cells": [
  {
   "cell_type": "code",
   "execution_count": 1,
   "metadata": {},
   "outputs": [
    {
     "data": {
      "text/plain": [
       "<module 'search_dispersion_events' from '/mnt/c/Users/dedasilv/OneDrive - NASA/Desktop/dmsp_data/search_dispersion_events.py'>"
      ]
     },
     "execution_count": 1,
     "metadata": {},
     "output_type": "execute_result"
    }
   ],
   "source": [
    "import progressbar\n",
    "import h5py\n",
    "import pandas as pd\n",
    "from datetime import datetime, timedelta\n",
    "import numpy as np\n",
    "import pytz\n",
    "import warnings\n",
    "import pylab as plt\n",
    "%matplotlib inline\n",
    "from matplotlib.colors import LogNorm\n",
    "\n",
    "import search_dispersion_events \n",
    "import importlib\n",
    "importlib.reload(search_dispersion_events)"
   ]
  },
  {
   "cell_type": "code",
   "execution_count": 2,
   "metadata": {},
   "outputs": [
    {
     "data": {
      "text/html": [
       "<div>\n",
       "<style scoped>\n",
       "    .dataframe tbody tr th:only-of-type {\n",
       "        vertical-align: middle;\n",
       "    }\n",
       "\n",
       "    .dataframe tbody tr th {\n",
       "        vertical-align: top;\n",
       "    }\n",
       "\n",
       "    .dataframe thead th {\n",
       "        text-align: right;\n",
       "    }\n",
       "</style>\n",
       "<table border=\"1\" class=\"dataframe\">\n",
       "  <thead>\n",
       "    <tr style=\"text-align: right;\">\n",
       "      <th></th>\n",
       "      <th>class</th>\n",
       "      <th>filename</th>\n",
       "      <th>sat</th>\n",
       "      <th>date</th>\n",
       "      <th>start_time</th>\n",
       "      <th>end_time</th>\n",
       "    </tr>\n",
       "  </thead>\n",
       "  <tbody>\n",
       "    <tr>\n",
       "      <th>0</th>\n",
       "      <td>0</td>\n",
       "      <td>data/2015/12/21/dms_20151221_16e.001.hdf5</td>\n",
       "      <td>16</td>\n",
       "      <td>2015-12-21</td>\n",
       "      <td>2015-12-21 09:16:00+00:00</td>\n",
       "      <td>2015-12-21 09:18:00+00:00</td>\n",
       "    </tr>\n",
       "    <tr>\n",
       "      <th>1</th>\n",
       "      <td>1</td>\n",
       "      <td>data/2015/12/20/dms_20151220_19e.001.hdf5</td>\n",
       "      <td>19</td>\n",
       "      <td>2015-12-20</td>\n",
       "      <td>2015-12-20 04:05:00+00:00</td>\n",
       "      <td>2015-12-20 04:07:00+00:00</td>\n",
       "    </tr>\n",
       "    <tr>\n",
       "      <th>2</th>\n",
       "      <td>0</td>\n",
       "      <td>data/2015/03/17/dms_20150317_18e.001.hdf5</td>\n",
       "      <td>18</td>\n",
       "      <td>2015-03-17</td>\n",
       "      <td>2015-03-17 11:13:00+00:00</td>\n",
       "      <td>2015-03-17 11:18:00+00:00</td>\n",
       "    </tr>\n",
       "    <tr>\n",
       "      <th>3</th>\n",
       "      <td>0</td>\n",
       "      <td>data/2011/08/06/dms_20110806_16e.001.hdf5</td>\n",
       "      <td>16</td>\n",
       "      <td>2011-08-06</td>\n",
       "      <td>2011-08-06 11:02:00+00:00</td>\n",
       "      <td>2011-08-06 11:06:00+00:00</td>\n",
       "    </tr>\n",
       "    <tr>\n",
       "      <th>4</th>\n",
       "      <td>0</td>\n",
       "      <td>data/2015/12/20/dms_20151220_18e.001.hdf5</td>\n",
       "      <td>18</td>\n",
       "      <td>2015-12-20</td>\n",
       "      <td>2015-12-20 05:56:00+00:00</td>\n",
       "      <td>2015-12-20 05:58:00+00:00</td>\n",
       "    </tr>\n",
       "  </tbody>\n",
       "</table>\n",
       "</div>"
      ],
      "text/plain": [
       "   class                                   filename  sat        date  \\\n",
       "0      0  data/2015/12/21/dms_20151221_16e.001.hdf5   16  2015-12-21   \n",
       "1      1  data/2015/12/20/dms_20151220_19e.001.hdf5   19  2015-12-20   \n",
       "2      0  data/2015/03/17/dms_20150317_18e.001.hdf5   18  2015-03-17   \n",
       "3      0  data/2011/08/06/dms_20110806_16e.001.hdf5   16  2011-08-06   \n",
       "4      0  data/2015/12/20/dms_20151220_18e.001.hdf5   18  2015-12-20   \n",
       "\n",
       "                 start_time                  end_time  \n",
       "0 2015-12-21 09:16:00+00:00 2015-12-21 09:18:00+00:00  \n",
       "1 2015-12-20 04:05:00+00:00 2015-12-20 04:07:00+00:00  \n",
       "2 2015-03-17 11:13:00+00:00 2015-03-17 11:18:00+00:00  \n",
       "3 2011-08-06 11:02:00+00:00 2011-08-06 11:06:00+00:00  \n",
       "4 2015-12-20 05:56:00+00:00 2015-12-20 05:58:00+00:00  "
      ]
     },
     "execution_count": 2,
     "metadata": {},
     "output_type": "execute_result"
    }
   ],
   "source": [
    "df = pd.read_csv('data/train.csv', parse_dates=['start_time', 'end_time'])\n",
    "df.head()"
   ]
  },
  {
   "cell_type": "code",
   "execution_count": 81,
   "metadata": {},
   "outputs": [],
   "source": [
    "def get_metrics(row):\n",
    "    importlib.reload(search_dispersion_events)\n",
    "    \n",
    "    # Do computation --------------------------------------------------\n",
    "    fh = search_dispersion_events.read_file(row.filename)\n",
    "\n",
    "    dEicdt_smooth, Eic = search_dispersion_events.estimate_log_Eic_smooth_derivative(fh)\n",
    "\n",
    "    _, integrand,integral, upper_area_frac = search_dispersion_events.walk_and_integrate(\n",
    "        fh, dEicdt_smooth, Eic, search_dispersion_events.DEFAULT_INTERVAL_LENGTH,\n",
    "        return_integrand=True\n",
    "    )\n",
    "        \n",
    "    i = fh['t'].searchsorted(row.start_time)\n",
    "    j = fh['t'].searchsorted(row.end_time)\n",
    "\n",
    "    return row.name, integral[i:j].max(), upper_area_frac[i:j].max(), fh['mlat'][i], fh['mlat'][j]"
   ]
  },
  {
   "cell_type": "code",
   "execution_count": 83,
   "metadata": {},
   "outputs": [
    {
     "name": "stderr",
     "output_type": "stream",
     "text": [
      "/home/daniel/anaconda3/lib/python3.7/site-packages/joblib/externals/loky/process_executor.py:706: UserWarning: A worker stopped while some jobs were given to the executor. This can be caused by a too short worker timeout or by a memory leak.\n",
      "  \"timeout or by a memory leak.\", UserWarning\n"
     ]
    }
   ],
   "source": [
    "from joblib import Parallel, delayed\n",
    "\n",
    "disp_df = df[df['class'] == 1]\n",
    "metric_rows = Parallel(n_jobs=12)(delayed(get_metrics)(row) for _, row in disp_df.iterrows())\n",
    "metric_df = pd.DataFrame(metric_rows, columns=['row_name', 'integral', 'upper_area_frac', 'mlat_start', 'mlat_end'])"
   ]
  },
  {
   "cell_type": "code",
   "execution_count": 85,
   "metadata": {},
   "outputs": [
    {
     "data": {
      "image/png": "[encoded data removed]",
      "text/plain": [
       "<Figure size 432x288 with 1 Axes>"
      ]
     },
     "metadata": {
      "needs_background": "light"
     },
     "output_type": "display_data"
    }
   ],
   "source": [
    "plt.hist(metric_df.integral, bins=40)\n",
    "plt.xlabel('Integral')\n",
    "plt.ylabel('Bin Count')\n",
    "plt.title('Max Integral in Sub-Windows for Example Set')\n",
    "None"
   ]
  },
  {
   "cell_type": "code",
   "execution_count": 87,
   "metadata": {},
   "outputs": [
    {
     "data": {
      "image/png": "[encoded data removed]",
      "text/plain": [
       "<Figure size 432x288 with 1 Axes>"
      ]
     },
     "metadata": {
      "needs_background": "light"
     },
     "output_type": "display_data"
    }
   ],
   "source": [
    "plt.hist(metric_df.upper_area_frac, bins=40)\n",
    "plt.xlabel('Upper Area Fraction')\n",
    "plt.ylabel('Bin Count')\n",
    "plt.title('Max Upper Area Fraction in Sub-Windows for Example Set')\n",
    "\n",
    "None"
   ]
  }
 ],
 "metadata": {
  "kernelspec": {
   "display_name": "Python 3",
   "language": "python",
   "name": "python3"
  },
  "language_info": {
   "codemirror_mode": {
    "name": "ipython",
    "version": 3
   },
   "file_extension": ".py",
   "mimetype": "text/x-python",
   "name": "python",
   "nbconvert_exporter": "python",
   "pygments_lexer": "ipython3",
   "version": "3.7.3"
  }
 },
 "nbformat": 4,
 "nbformat_minor": 4
}
