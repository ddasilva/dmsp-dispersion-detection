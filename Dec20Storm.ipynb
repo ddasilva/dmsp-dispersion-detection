{
 "cells": [
  {
   "cell_type": "code",
   "execution_count": null,
   "metadata": {},
   "outputs": [],
   "source": [
    "import progressbar\n",
    "import h5py\n",
    "import pandas as pd\n",
    "import glob\n",
    "from datetime import datetime, timedelta\n",
    "import numpy as np\n",
    "import pytz\n",
    "import warnings\n",
    "import os\n",
    "import pylab as plt\n",
    "%matplotlib inline\n",
    "from matplotlib.colors import LogNorm\n",
    "\n",
    "import search_dispersion_events \n",
    "import importlib\n",
    "importlib.reload(search_dispersion_events)"
   ]
  },
  {
   "cell_type": "code",
   "execution_count": null,
   "metadata": {},
   "outputs": [],
   "source": [
    "\n",
    "def search(filename, save=False):\n",
    "    importlib.reload(search_dispersion_events)\n",
    "    \n",
    "    # Do computation --------------------------------------------------\n",
    "    fh = search_dispersion_events.read_file(filename)\n",
    "\n",
    "    dEicdt_smooth, Eic = search_dispersion_events.estimate_log_Eic_smooth_derivative(fh)\n",
    "\n",
    "    df_match, integrand, integral, upper_area_frac = search_dispersion_events.walk_and_integrate(\n",
    "        fh, dEicdt_smooth, Eic, search_dispersion_events.DEFAULT_INTERVAL_LENGTH,\n",
    "        return_integrand=True\n",
    "    )\n",
    "    \n",
    "    # Do plotting --------------------------------------------------\n",
    "    for _, row_match in df_match.iterrows():\n",
    "        i = fh['t'].searchsorted(row_match.start_time)\n",
    "        j = fh['t'].searchsorted(row_match.end_time)\n",
    "\n",
    "        fig, axes = plt.subplots(2, 1, figsize=(18, 6), sharex=True)\n",
    "\n",
    "        im = axes[0].pcolor(fh['t'][i:j], np.log10(fh['ch_energy']), fh['ion_d_ener'][:, i:j], \n",
    "                            norm=LogNorm(vmin=1e3, vmax=1e8), cmap='jet')\n",
    "        plt.colorbar(im, ax=axes[0]).set_label('Log Energy Flux')\n",
    "        plt.colorbar(im, ax=axes[1]).set_label('')\n",
    "\n",
    "        axes[0].plot(fh['t'][i:j], Eic[i:j], 'b*-')\n",
    "        axes[0].invert_yaxis()\n",
    "        axes[0].set_ylabel('Log Energy [eV] - Ions')\n",
    "\n",
    "        time_length = row_match.end_time - row_match.start_time\n",
    "        fig.suptitle(f'{time_length.total_seconds() / 60:.1f} minutes : '\n",
    "                     f'{row_match.start_time.isoformat()} - {row_match.end_time.isoformat()}', fontweight='bold')\n",
    "        \n",
    "        title = 'MLAT = (%.1f deg to %.1f deg)' % (fh['mlat'][i], fh['mlat'][j])\n",
    "        title += ' Northward' if fh['mlat'][j] > fh['mlat'][i] else ' Southward'\n",
    "        title += f' -- Integral {float(integral[i:j].max()):.2f} -- UpperFrac {float(upper_area_frac[i]):.2f}'\n",
    "        axes[0].set_title(title)\n",
    "\n",
    "        axes[1].fill_between(fh['t'][i:j], 0, integrand[i:j])\n",
    "        axes[1].axhline(0, color='black', linestyle='dashed')\n",
    "        axes[1].set_ylim([-.25, .25])\n",
    "        axes[1].set_ylabel('D(t) [eV/s]')\n",
    "\n",
    "        if save:\n",
    "            out_name = 'plots/Dec20_2015_storm/'\n",
    "            out_name += f'{os.path.basename(filename)}_'\n",
    "            out_name += f\"{row_match.start_time.isoformat()}_\"\n",
    "            out_name += f\"{row_match.end_time.isoformat()}.png\"\n",
    "            \n",
    "            plt.savefig(out_name)\n",
    "            plt.close()\n",
    "            df_match['filename'] = filename\n",
    "\n",
    "    return df_match"
   ]
  },
  {
   "cell_type": "code",
   "execution_count": null,
   "metadata": {},
   "outputs": [],
   "source": [
    "files = []\n",
    "for i in range(18, 24):\n",
    "    files.extend(glob.glob('data/Dec20_2015_storm/**/*201512%02d*.hdf5'%i, recursive=True))\n",
    "\n",
    "files[:5]"
   ]
  },
  {
   "cell_type": "code",
   "execution_count": null,
   "metadata": {},
   "outputs": [],
   "source": [
    "\n",
    "df_matches = []\n",
    "\n",
    "for i, file in enumerate(files):\n",
    "    print(f'Processing {i+1}/{len(files)} :: {file}')\n",
    "    df_match = search(file, save=True)\n",
    "    df_matches.append(df_match)"
   ]
  },
  {
   "cell_type": "code",
   "execution_count": null,
   "metadata": {},
   "outputs": [],
   "source": [
    "df = pd.concat(df_matches)\n",
    "df.to_csv('data/Dec20_2015_storm_events.csv', index=0)\n",
    "df"
   ]
  }
 ],
 "metadata": {
  "kernelspec": {
   "display_name": "Python 3",
   "language": "python",
   "name": "python3"
  },
  "language_info": {
   "codemirror_mode": {
    "name": "ipython",
    "version": 3
   },
   "file_extension": ".py",
   "mimetype": "text/x-python",
   "name": "python",
   "nbconvert_exporter": "python",
   "pygments_lexer": "ipython3",
   "version": "3.8.3"
  }
 },
 "nbformat": 4,
 "nbformat_minor": 4
}
